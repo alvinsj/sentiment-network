{
 "cells": [
  {
   "cell_type": "markdown",
   "metadata": {},
   "source": [
    "### Curate Dataset  \n",
    "  - read the reviews at `reviews.txt` \n",
    "  - read the labels at `labels.txt`"
   ]
  },
  {
   "cell_type": "code",
   "execution_count": 2,
   "metadata": {
    "collapsed": true
   },
   "outputs": [],
   "source": [
    "import System.Environment\n",
    "import Control.Monad\n",
    "\n",
    "readReviews = do\n",
    "  reviews <- readFile \"reviews.txt\"\n",
    "  return $ lines reviews\n",
    "  \n",
    "readLabels = do\n",
    "  labels <- readFile \"labels.txt\"\n",
    "  return $ lines labels"
   ]
  },
  {
   "cell_type": "code",
   "execution_count": 119,
   "metadata": {},
   "outputs": [
    {
     "data": {
      "text/plain": [
       "25000"
      ]
     },
     "metadata": {},
     "output_type": "display_data"
    }
   ],
   "source": [
    "readReviews >>= print . length"
   ]
  },
  {
   "cell_type": "code",
   "execution_count": 120,
   "metadata": {},
   "outputs": [
    {
     "data": {
      "text/plain": [
       "\"bromwell high is a cartoon comedy . it ran at the same time as some other programs about school life  such as  teachers  . my   years in the teaching profession lead me to believe that bromwell high  s satire is much closer to reality than is  teachers  . the scramble to survive financially  the insightful students who can see right through their pathetic teachers  pomp  the pettiness of the whole situation  all remind me of the schools i knew and their students . when i saw the episode in which a student repeatedly tried to burn down the school  i immediately recalled . . . . . . . . . at . . . . . . . . . . high . a classic line inspector i  m here to sack one of your teachers . student welcome to bromwell high . i expect that many adults of my age think that bromwell high is far fetched . what a pity that it isn  t   \""
      ]
     },
     "metadata": {},
     "output_type": "display_data"
    }
   ],
   "source": [
    "readReviews >>= print . head"
   ]
  },
  {
   "cell_type": "code",
   "execution_count": 90,
   "metadata": {},
   "outputs": [
    {
     "data": {
      "text/plain": [
       "\"positive\""
      ]
     },
     "metadata": {},
     "output_type": "display_data"
    }
   ],
   "source": [
    "readLabels >>= print . head"
   ]
  },
  {
   "cell_type": "markdown",
   "metadata": {},
   "source": [
    "### Developing a Predictive Theory\n",
    "- investigate the data\n",
    "- predict the influence "
   ]
  },
  {
   "cell_type": "code",
   "execution_count": 96,
   "metadata": {},
   "outputs": [
    {
     "data": {
      "text/plain": [
       "\"label            review\"\n",
       "\"negative    :    this movie is terrible but it has some good effects .  \"\n",
       "\"positive    :    adrian pasdar is excellent is this film . he makes a fascinating woman .  \"\n",
       "\"negative    :    comment this movie is impossible . is terrible  very improbable  bad interpretat\"\n",
       "\"positive    :    excellent episode movie ala pulp fiction .  days   suicides . it doesnt get more\"\n",
       "\"negative    :    if you haven  t seen this  it  s terrible . it is pure trash . i saw this about \"\n",
       "\"positive    :    this schiffer guy is a real genius  the movie is of excellent quality and both e\""
      ]
     },
     "metadata": {},
     "output_type": "display_data"
    }
   ],
   "source": [
    "reviewLength = 80\n",
    "\n",
    "printEachSet labels reviews prev index = let\n",
    "    labelAt n = take reviewLength (labels !! n)\n",
    "    reviewAt n = take reviewLength (reviews !! n) \n",
    "    printLine n = print $ (labelAt n) ++ \"    :    \" ++ (reviewAt n) in \n",
    "        prev >> printLine index\n",
    "       \n",
    "prettyPrint indices = do\n",
    "    reviews <- readReviews\n",
    "    labels <- readLabels \n",
    "    Prelude.foldl (printEachSet labels reviews) (print \"label            review\") indices \n",
    "        \n",
    "prettyPrint [2137, 12816, 6267, 21934, 5297, 4998]"
   ]
  },
  {
   "cell_type": "markdown",
   "metadata": {},
   "source": [
    "### Quick theory validation\n",
    "\n",
    "- total word count in reviews\n",
    "- positive/negative word count in reviews"
   ]
  },
  {
   "cell_type": "code",
   "execution_count": 75,
   "metadata": {
    "collapsed": true
   },
   "outputs": [],
   "source": [
    "import Data.Map as M\n",
    "import Test.QuickCheck\n",
    "\n",
    "type Counter = Map String Int"
   ]
  },
  {
   "cell_type": "code",
   "execution_count": 76,
   "metadata": {
    "collapsed": true
   },
   "outputs": [],
   "source": [
    "import Data.List.Split\n",
    "splitReviews = splitOn \" \""
   ]
  },
  {
   "cell_type": "code",
   "execution_count": 77,
   "metadata": {},
   "outputs": [
    {
     "data": {
      "text/plain": [
       "\"getCount :: String -> Counter -> Int\""
      ]
     },
     "metadata": {},
     "output_type": "display_data"
    },
    {
     "data": {
      "text/plain": [
       "+++ OK, passed 100 tests."
      ]
     },
     "metadata": {},
     "output_type": "display_data"
    }
   ],
   "source": [
    "-- getCount\n",
    "getCount :: String -> Counter -> Int\n",
    "getCount word cnts = if (M.member word cnts) then (cnts M.! word) else 0\n",
    "\n",
    "-- test: getCount\n",
    "testGetCount :: String -> Int -> Bool\n",
    "testGetCount word count = (getCount word $ M.fromList [(word, count)]) == (count :: Int)\n",
    "\n",
    "print \"getCount :: String -> Counter -> Int\"\n",
    "quickCheck testGetCount"
   ]
  },
  {
   "cell_type": "code",
   "execution_count": 78,
   "metadata": {},
   "outputs": [
    {
     "data": {
      "text/plain": [
       "\"addCount :: Counter -> String -> Counter\""
      ]
     },
     "metadata": {},
     "output_type": "display_data"
    },
    {
     "data": {
      "text/plain": [
       "+++ OK, passed 100 tests."
      ]
     },
     "metadata": {},
     "output_type": "display_data"
    }
   ],
   "source": [
    "-- addCount\n",
    "addCount :: Counter -> String -> Counter\n",
    "addCount counter word = M.insert word ((+) 1 $ getCount word counter) counter \n",
    "\n",
    "-- test: addCount'\n",
    "wordCountMap :: String -> Int -> Counter\n",
    "wordCountMap word count = M.fromList [(word, count)]\n",
    "\n",
    "testAddCount count word = let \n",
    "    result = (addCount (wordCountMap word count) word) \n",
    "    in result == (M.fromList [(word, count+1)])\n",
    "\n",
    "print \"addCount :: Counter -> String -> Counter\"\n",
    "quickCheck testAddCount"
   ]
  },
  {
   "cell_type": "code",
   "execution_count": 109,
   "metadata": {},
   "outputs": [
    {
     "data": {
      "text/plain": [
       "\"addPosNegCount\""
      ]
     },
     "metadata": {},
     "output_type": "display_data"
    },
    {
     "data": {
      "text/plain": [
       "\"positive\""
      ]
     },
     "metadata": {},
     "output_type": "display_data"
    },
    {
     "data": {
      "text/plain": [
       "+++ OK, passed 100 tests."
      ]
     },
     "metadata": {},
     "output_type": "display_data"
    },
    {
     "data": {
      "text/plain": [
       "\"negative\""
      ]
     },
     "metadata": {},
     "output_type": "display_data"
    },
    {
     "data": {
      "text/plain": [
       "+++ OK, passed 100 tests."
      ]
     },
     "metadata": {},
     "output_type": "display_data"
    }
   ],
   "source": [
    "data Counters = Counters { count ::Int, \n",
    "    allWords :: Counter,\n",
    "    posWords :: Counter,\n",
    "    negWords :: Counter } deriving (Show, Eq) \n",
    "    \n",
    "emptyCounters = Counters {count=0, allWords=M.empty, posWords=M.empty, negWords=M.empty}\n",
    "\n",
    "-- addPosNegCount\n",
    "addPosNegCount :: String -> Counters -> String -> Counters\n",
    "addPosNegCount label reduced word =\n",
    "    let Counters index totalCount positiveCount negativeCount = reduced\n",
    "        newPositiveCount = if label == \"positive\" then addCount positiveCount word else positiveCount\n",
    "        newNegativeCount = if label == \"negative\" then addCount negativeCount word else negativeCount\n",
    "        newTotalCount = addCount totalCount word in \n",
    "            Counters (index + 1) newTotalCount newPositiveCount newNegativeCount\n",
    "\n",
    "\n",
    "-- test: addPosNegCount\n",
    "testAddPosCount :: String -> Bool\n",
    "testAddPosCount word = let \n",
    "    result = addPosNegCount \"positive\" emptyCounters word\n",
    "    in result == Counters {count=1, \n",
    "        allWords=M.fromList [(word,1)], \n",
    "        posWords=M.fromList [(word,1)], \n",
    "        negWords=M.empty}\n",
    "\n",
    "testAddNegCount :: String -> Bool\n",
    "testAddNegCount word = let \n",
    "    result = addPosNegCount \"negative\" emptyCounters word\n",
    "    in result == Counters {count=1, \n",
    "        allWords=M.fromList [(word,1)], \n",
    "        posWords=M.empty, \n",
    "        negWords=M.fromList [(word,1)]}\n",
    "\n",
    "print \"addPosNegCount\"\n",
    "print \"positive\"\n",
    "quickCheck testAddPosCount\n",
    "print \"negative\"\n",
    "quickCheck testAddNegCount"
   ]
  },
  {
   "cell_type": "code",
   "execution_count": 110,
   "metadata": {},
   "outputs": [
    {
     "data": {
      "text/plain": [
       "\"groupWords :: positive -> [String] -> Counters -> Counters\""
      ]
     },
     "metadata": {},
     "output_type": "display_data"
    },
    {
     "data": {
      "text/plain": [
       "+++ OK, passed 100 tests."
      ]
     },
     "metadata": {},
     "output_type": "display_data"
    },
    {
     "data": {
      "text/plain": [
       "\"groupWords :: negative -> [String] -> Counters -> Counters\""
      ]
     },
     "metadata": {},
     "output_type": "display_data"
    },
    {
     "data": {
      "text/plain": [
       "+++ OK, passed 100 tests."
      ]
     },
     "metadata": {},
     "output_type": "display_data"
    }
   ],
   "source": [
    "-- groupWords\n",
    "groupWords :: String -> [String] -> Counters -> Counters\n",
    "groupWords label wordList initialData = \n",
    "    Prelude.foldl (addPosNegCount label) initialData wordList\n",
    "\n",
    "-- test: groupWords\n",
    "testGroupPositiveWords :: [String] -> Bool\n",
    "testGroupPositiveWords words = let \n",
    "    result = groupWords \"positive\" words emptyCounters\n",
    "    wordsLength = length words\n",
    "    ones = replicate wordsLength 1\n",
    "    counterWithWords = Prelude.foldl (\\a one -> addCount a one) M.empty words\n",
    "    in result == Counters {count=wordsLength, allWords=counterWithWords, posWords=counterWithWords, negWords=M.empty}\n",
    "\n",
    "testGroupNegativeWords :: [String] -> Bool\n",
    "testGroupNegativeWords words = let \n",
    "    result = groupWords \"negative\" words emptyCounters\n",
    "    wordsLength = length words\n",
    "    ones = replicate wordsLength 1\n",
    "    counterWithWords = Prelude.foldl (\\a one -> addCount a one) M.empty words\n",
    "    in result == Counters {count=wordsLength, allWords=counterWithWords, posWords=M.empty, negWords=counterWithWords}\n",
    "\n",
    "print \"groupWords :: positive -> [String] -> Counters -> Counters\"\n",
    "quickCheck testGroupPositiveWords\n",
    "\n",
    "print \"groupWords :: negative -> [String] -> Counters -> Counters\"\n",
    "quickCheck testGroupNegativeWords"
   ]
  },
  {
   "cell_type": "code",
   "execution_count": 111,
   "metadata": {
    "collapsed": true
   },
   "outputs": [],
   "source": [
    "counts label review initialData = let splitted = splitReviews review in\n",
    "        groupWords label splitted initialData\n",
    "\n",
    "inputSize = 20\n",
    "countAll readLabels readReviews = do  \n",
    "    labels <- readLabels\n",
    "    reviews <- readReviews\n",
    "    let pair = zip (take inputSize labels) (take inputSize reviews)\n",
    "        initialData = emptyCounters\n",
    "        mergeCounts = (\\all -> \\one -> counts (fst one) (snd one) all) in\n",
    "        return $ Prelude.foldl mergeCounts initialData pair "
   ]
  },
  {
   "cell_type": "code",
   "execution_count": 114,
   "metadata": {},
   "outputs": [
    {
     "data": {
      "text/plain": [
       "\"total words: 1607, positive: 920, negative: 986\""
      ]
     },
     "metadata": {},
     "output_type": "display_data"
    }
   ],
   "source": [
    "countAll readLabels readReviews >>= \n",
    "    \\counters -> \n",
    "    let x = show $ size $ allWords counters\n",
    "        y = show $ size $ posWords counters\n",
    "        z = show $ size $ negWords counters\n",
    "        in print $ \"total words: \" ++ x  ++ \", positive: \" ++ y ++ \", negative: \" ++ z\n"
   ]
  },
  {
   "cell_type": "code",
   "execution_count": 118,
   "metadata": {},
   "outputs": [
    {
     "data": {
      "text/plain": [
       "1.0986122886681098"
      ]
     },
     "metadata": {},
     "output_type": "display_data"
    },
    {
     "data": {
      "text/plain": [
       "fromList [(\"ab\",0.0)]"
      ]
     },
     "metadata": {},
     "output_type": "display_data"
    },
    {
     "data": {
      "text/plain": [
       "fromList [(\"ab\",-4.605170185988092)]"
      ]
     },
     "metadata": {},
     "output_type": "display_data"
    }
   ],
   "source": [
    "safeTake :: Counter -> String -> Double\n",
    "safeTake m word = if member word m then fromIntegral $ m ! word else 0\n",
    "\n",
    "calcRatio :: Counter -> Counter -> String -> Double\n",
    "calcRatio pos neg word = let \n",
    "    ratio = (pos `safeTake` word) / (1 + (neg `safeTake` word)) in \n",
    "        if ratio > 0 then log ratio else  0 - log (1/(ratio + 0.01))\n",
    "calcRatio (M.fromList [(\"ab\", 3)]) (M.fromList []) \"ab\"\n",
    "\n",
    "mergeRatio :: Counter -> Counter -> Map String Double -> String -> Map String Double \n",
    "mergeRatio pos neg ratios word = let\n",
    "    ratio = calcRatio pos neg word in \n",
    "    M.insert word ratio ratios\n",
    "\n",
    "mergeRatio (M.fromList [(\"ab\", 1)]) (M.fromList []) M.empty \"ab\"\n",
    "mergeRatio (M.fromList []) (M.fromList [(\"ab\", 1)]) M.empty \"ab\"\n",
    "\n",
    "positiveToNegRatios = do\n",
    "    counters <- countAll readLabels readReviews\n",
    "    let merge = mergeRatio (posWords counters) (negWords counters) in \n",
    "        return $ Prelude.foldl merge M.empty (keys $ allWords counters)\n",
    "\n",
    "-- cutoff = 1\n",
    "-- positiveToNegRatios >>= \\x -> let r = M.filter (\\cnt -> cnt > -cutoff || cnt < cutoff) x in print r"
   ]
  },
  {
   "cell_type": "code",
   "execution_count": null,
   "metadata": {
    "collapsed": true
   },
   "outputs": [],
   "source": []
  },
  {
   "cell_type": "code",
   "execution_count": null,
   "metadata": {
    "collapsed": true
   },
   "outputs": [],
   "source": []
  }
 ],
 "metadata": {
  "kernelspec": {
   "display_name": "Haskell",
   "language": "haskell",
   "name": "haskell"
  },
  "language_info": {
   "codemirror_mode": "ihaskell",
   "file_extension": ".hs",
   "name": "haskell",
   "version": "7.10.3"
  }
 },
 "nbformat": 4,
 "nbformat_minor": 2
}
