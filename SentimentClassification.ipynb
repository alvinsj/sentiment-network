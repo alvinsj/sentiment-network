{
 "cells": [
  {
   "cell_type": "markdown",
   "metadata": {},
   "source": [
    "## 1. Reading files  \n",
    "  - reviews.txt: reviews \n",
    "  - labels.txt: labels"
   ]
  },
  {
   "cell_type": "code",
   "execution_count": 3,
   "metadata": {
    "collapsed": true
   },
   "outputs": [],
   "source": [
    "import System.Environment\n",
    "import Control.Monad\n",
    "\n",
    "readReviews = do\n",
    "  reviews <- readFile \"reviews.txt\"\n",
    "  return $ lines reviews\n",
    "  \n",
    "readLabels = do\n",
    "  labels <- readFile \"labels.txt\"\n",
    "  return $ lines labels"
   ]
  },
  {
   "cell_type": "markdown",
   "metadata": {},
   "source": [
    "## 2. Count the numbers\n",
    "\n",
    "- total word count in reviews\n",
    "- positive/negative word count in reviews\n"
   ]
  },
  {
   "cell_type": "code",
   "execution_count": 4,
   "metadata": {
    "collapsed": true
   },
   "outputs": [],
   "source": [
    "import Data.Map as M\n",
    "import Test.QuickCheck\n",
    "\n",
    "type Counter = Map String Int"
   ]
  },
  {
   "cell_type": "code",
   "execution_count": 5,
   "metadata": {
    "collapsed": true
   },
   "outputs": [],
   "source": [
    "import Data.List.Split\n",
    "splitReviews = splitOn \" \""
   ]
  },
  {
   "cell_type": "code",
   "execution_count": 6,
   "metadata": {},
   "outputs": [
    {
     "data": {
      "text/plain": [
       "\"getCount :: String -> Counter -> Int\""
      ]
     },
     "metadata": {},
     "output_type": "display_data"
    },
    {
     "data": {
      "text/plain": [
       "+++ OK, passed 100 tests."
      ]
     },
     "metadata": {},
     "output_type": "display_data"
    }
   ],
   "source": [
    "-- getCount\n",
    "getCount :: String -> Counter -> Int\n",
    "getCount word cnts = if (M.member word cnts) then (cnts M.! word) else 0\n",
    "\n",
    "-- test: getCount\n",
    "testGetCount :: String -> Int -> Bool\n",
    "testGetCount word count = (getCount word $ M.fromList [(word, count)]) == (count :: Int)\n",
    "\n",
    "print \"getCount :: String -> Counter -> Int\"\n",
    "quickCheck testGetCount"
   ]
  },
  {
   "cell_type": "code",
   "execution_count": 7,
   "metadata": {},
   "outputs": [
    {
     "data": {
      "text/plain": [
       "\"addCount :: Counter -> String -> Counter\""
      ]
     },
     "metadata": {},
     "output_type": "display_data"
    },
    {
     "data": {
      "text/plain": [
       "+++ OK, passed 100 tests."
      ]
     },
     "metadata": {},
     "output_type": "display_data"
    }
   ],
   "source": [
    "-- addCount\n",
    "addCount :: Counter -> String -> Counter\n",
    "addCount counter word = M.insert word ((+) 1 $ getCount word counter) counter \n",
    "\n",
    "-- test: addCount'\n",
    "wordCountMap :: String -> Int -> Counter\n",
    "wordCountMap word count = M.fromList [(word, count)]\n",
    "\n",
    "testAddCount count word = let \n",
    "    result = (addCount (wordCountMap word count) word) \n",
    "    in result == (M.fromList [(word, count+1)])\n",
    "\n",
    "print \"addCount :: Counter -> String -> Counter\"\n",
    "quickCheck testAddCount"
   ]
  },
  {
   "cell_type": "code",
   "execution_count": 8,
   "metadata": {},
   "outputs": [
    {
     "data": {
      "text/plain": [
       "\"addPosNegCount\""
      ]
     },
     "metadata": {},
     "output_type": "display_data"
    },
    {
     "data": {
      "text/plain": [
       "\"positive\""
      ]
     },
     "metadata": {},
     "output_type": "display_data"
    },
    {
     "data": {
      "text/plain": [
       "+++ OK, passed 100 tests."
      ]
     },
     "metadata": {},
     "output_type": "display_data"
    },
    {
     "data": {
      "text/plain": [
       "\"negative\""
      ]
     },
     "metadata": {},
     "output_type": "display_data"
    },
    {
     "data": {
      "text/plain": [
       "+++ OK, passed 100 tests."
      ]
     },
     "metadata": {},
     "output_type": "display_data"
    }
   ],
   "source": [
    "type Counters = (Int, (Counter, (Counter, Counter))) \n",
    "\n",
    "-- addPosNegCount\n",
    "addPosNegCount :: String -> Counters -> String -> Counters\n",
    "addPosNegCount label reduced word =\n",
    "    let (index, (totalCount, (positiveCount, negativeCount))) = reduced\n",
    "        newPositiveCount = if label == \"positive\" then addCount positiveCount word else positiveCount\n",
    "        newNegativeCount = if label == \"negative\" then addCount negativeCount word else negativeCount\n",
    "        newTotalCount = addCount totalCount word in \n",
    "            (index + 1, (newTotalCount, (newPositiveCount, newNegativeCount)))\n",
    "\n",
    "-- test: addPosNegCount\n",
    "testAddPosCount :: String -> Bool\n",
    "testAddPosCount word = let \n",
    "    result = addPosNegCount \"positive\" (0, (M.empty, (M.empty, M.empty))) word\n",
    "    in result == (1,(M.fromList [(word,1)],(M.fromList [(word,1)],M.fromList [])))\n",
    "\n",
    "testAddNegCount :: String -> Bool\n",
    "testAddNegCount word = let \n",
    "    result = addPosNegCount \"negative\" (0, (M.empty, (M.empty, M.empty))) word\n",
    "    in result == (1,(M.fromList [(word,1)],(M.fromList [],M.fromList [(word,1)])))\n",
    "\n",
    "print \"addPosNegCount\"\n",
    "print \"positive\"\n",
    "quickCheck testAddPosCount\n",
    "print \"negative\"\n",
    "quickCheck testAddNegCount"
   ]
  },
  {
   "cell_type": "code",
   "execution_count": 167,
   "metadata": {},
   "outputs": [
    {
     "data": {
      "text/plain": [
       "\"groupWords :: positive -> [String] -> Counters -> Counters\""
      ]
     },
     "metadata": {},
     "output_type": "display_data"
    },
    {
     "data": {
      "text/plain": [
       "+++ OK, passed 100 tests."
      ]
     },
     "metadata": {},
     "output_type": "display_data"
    },
    {
     "data": {
      "text/plain": [
       "\"groupWords :: negative -> [String] -> Counters -> Counters\""
      ]
     },
     "metadata": {},
     "output_type": "display_data"
    },
    {
     "data": {
      "text/plain": [
       "+++ OK, passed 100 tests."
      ]
     },
     "metadata": {},
     "output_type": "display_data"
    }
   ],
   "source": [
    "-- groupWords\n",
    "groupWords :: String -> [String] -> Counters -> Counters\n",
    "groupWords label wordList initialData = \n",
    "    Prelude.foldl (addPosNegCount label) initialData wordList\n",
    "\n",
    "-- test: groupWords\n",
    "emptyCounters = (0, (M.empty, (M.empty, M.empty)))\n",
    "\n",
    "testGroupPositiveWords :: [String] -> Bool\n",
    "testGroupPositiveWords words = let \n",
    "    result = groupWords \"positive\" words emptyCounters\n",
    "    wordsLength = length words\n",
    "    ones = replicate wordsLength 1\n",
    "    counterWithWords = Prelude.foldl (\\a one -> addCount a one) M.empty words\n",
    "    in result == (wordsLength,(counterWithWords,(counterWithWords, M.fromList [])))\n",
    "\n",
    "testGroupNegativeWords :: [String] -> Bool\n",
    "testGroupNegativeWords words = let \n",
    "    result = groupWords \"negative\" words emptyCounters\n",
    "    wordsLength = length words\n",
    "    ones = replicate wordsLength 1\n",
    "    counterWithWords = Prelude.foldl (\\a one -> addCount a one) M.empty words\n",
    "    in result == (wordsLength,(counterWithWords,(M.fromList [], counterWithWords)))\n",
    "\n",
    "print \"groupWords :: positive -> [String] -> Counters -> Counters\"\n",
    "quickCheck testGroupPositiveWords\n",
    "\n",
    "print \"groupWords :: negative -> [String] -> Counters -> Counters\"\n",
    "quickCheck testGroupNegativeWords"
   ]
  },
  {
   "cell_type": "code",
   "execution_count": null,
   "metadata": {
    "collapsed": true
   },
   "outputs": [],
   "source": []
  },
  {
   "cell_type": "code",
   "execution_count": 163,
   "metadata": {},
   "outputs": [],
   "source": [
    "counts label review initialData = let splitted = splitReviews review in\n",
    "        groupWords label splitted initialData\n",
    "\n",
    "inputSize = 20\n",
    "countAll readLabels readReviews = do  \n",
    "    labels <- readLabels\n",
    "    reviews <- readReviews\n",
    "    let pair = zip (take inputSize labels) (take inputSize reviews)\n",
    "        initialData = (0, (M.empty, (M.empty, M.empty)))\n",
    "        mergeCounts = (\\all -> \\one -> counts (fst one) (snd one) all) in\n",
    "        return $ Prelude.foldl mergeCounts initialData pair "
   ]
  },
  {
   "cell_type": "code",
   "execution_count": 164,
   "metadata": {},
   "outputs": [
    {
     "data": {
      "text/plain": [
       "\"total words: 1607, positive: 920, negative: 986\""
      ]
     },
     "metadata": {},
     "output_type": "display_data"
    }
   ],
   "source": [
    "countAll readLabels readReviews >>= \n",
    "    \\(total, (total_count, (pos, neg))) -> \n",
    "    let x = show $ size total_count\n",
    "        y = show $ size pos\n",
    "        z = show $ size neg\n",
    "        in print $ \"total words: \" ++ x  ++ \", positive: \" ++ y ++ \", negative: \" ++ z\n"
   ]
  },
  {
   "cell_type": "code",
   "execution_count": null,
   "metadata": {
    "collapsed": true
   },
   "outputs": [],
   "source": []
  },
  {
   "cell_type": "code",
   "execution_count": 162,
   "metadata": {},
   "outputs": [
    {
     "data": {
      "text/plain": [
       "1.0986122886681098"
      ]
     },
     "metadata": {},
     "output_type": "display_data"
    },
    {
     "data": {
      "text/plain": [
       "fromList [(\"ab\",0.0)]"
      ]
     },
     "metadata": {},
     "output_type": "display_data"
    },
    {
     "data": {
      "text/plain": [
       "fromList [(\"ab\",-4.605170185988092)]"
      ]
     },
     "metadata": {},
     "output_type": "display_data"
    },
    {
     "data": {
      "text/plain": [
       "fromList [(\"\",0.10018585986780887),(\".\",0.0),(\"a\",0.27193371548364176),(\"abducted\",0.0),(\"ability\",-4.605170185988092),(\"able\",0.0),(\"about\",0.11778303565638346),(\"absence\",-4.605170185988092),(\"absurd\",-4.605170185988092),(\"abuse\",0.0),(\"abused\",0.0),(\"academy\",0.0),(\"acclaimed\",0.0),(\"accomplice\",-4.605170185988092),(\"according\",0.0),(\"accumulated\",0.0),(\"accusations\",-4.605170185988092),(\"accused\",0.0),(\"achieve\",0.0),(\"achieving\",0.0),(\"across\",-4.605170185988092),(\"acting\",0.4054651081081644),(\"action\",-4.605170185988092),(\"actions\",0.0),(\"actor\",0.0),(\"actors\",-4.605170185988092),(\"actress\",0.0),(\"actresses\",-0.6931471805599453),(\"actual\",0.0),(\"actually\",0.4054651081081644),(\"add\",-4.605170185988092),(\"adopted\",0.0),(\"adoptive\",0.0),(\"adults\",0.0),(\"adventure\",-4.605170185988092),(\"affect\",0.0),(\"affected\",-4.605170185988092),(\"affects\",0.0),(\"affluence\",-4.605170185988092),(\"afraid\",-4.605170185988092),(\"after\",0.0),(\"again\",-0.6931471805599453),(\"age\",0.0),(\"ago\",-4.605170185988092),(\"agree\",-4.605170185988092),(\"agreements\",0.0),(\"ahead\",-4.605170185988092),(\"aids\",0.6931471805599453),(\"ailments\",0.0),(\"air\",-4.605170185988092),(\"airline\",-4.605170185988092),(\"airport\",-4.605170185988092),(\"airwaves\",0.0),(\"all\",0.6931471805599453),(\"allen\",-4.605170185988092),(\"almost\",-0.6931471805599453),(\"along\",-4.605170185988092),(\"already\",0.0),(\"alright\",-4.605170185988092),(\"also\",-0.916290731874155),(\"although\",-4.605170185988092),(\"am\",-4.605170185988092),(\"amid\",-4.605170185988092),(\"among\",0.0),(\"amuse\",0.0),(\"an\",-0.1823215567939546),(\"and\",0.10763066419236536),(\"anderson\",0.6931471805599453),(\"anger\",-4.605170185988092),(\"angie\",-4.605170185988092),(\"angles\",0.0),(\"angst\",-4.605170185988092),(\"angular\",-4.605170185988092),(\"ann\",1.3862943611198906),(\"anna\",0.0),(\"another\",-4.605170185988092),(\"anthony\",0.0),(\"anti\",-4.605170185988092),(\"anticipate\",0.0),(\"any\",-1.3862943611198906),(\"anybody\",-4.605170185988092),(\"anyone\",-0.6931471805599453),(\"anything\",-1.0986122886681098),(\"anyway\",-4.605170185988092),(\"apartment\",0.0),(\"appears\",-4.605170185988092),(\"applauded\",-4.605170185988092),(\"applause\",-4.605170185988092),(\"are\",-0.5108256237659907),(\"aren\",-4.605170185988092),(\"arise\",0.0),(\"armistead\",0.6931471805599453),(\"art\",-0.6931471805599453),(\"artistic\",-4.605170185988092),(\"as\",4.652001563489291e-2),(\"ashe\",0.6931471805599453),(\"associates\",0.0),(\"at\",-0.587786664902119),(\"attempt\",-4.605170185988092),(\"attempts\",0.0),(\"attendants\",0.0),(\"audience\",-1.0986122886681098),(\"aural\",-4.605170185988092),(\"autobiography\",0.0),(\"await\",-4.605170185988092),(\"award\",0.0),(\"awards\",0.0),(\"babble\",-4.605170185988092),(\"back\",-0.6931471805599453),(\"backdrop\",-4.605170185988092),(\"background\",-4.605170185988092),(\"backgrounds\",0.0),(\"bad\",-4.605170185988092),(\"badly\",-4.605170185988092),(\"bag\",-4.605170185988092),(\"baked\",-4.605170185988092),(\"baker\",0.0),(\"bang\",-4.605170185988092),(\"banker\",-4.605170185988092),(\"barely\",-4.605170185988092),(\"based\",1.3862943611198906),(\"basic\",-4.605170185988092),(\"bath\",-4.605170185988092),(\"bathroom\",0.0),(\"be\",0.36772478012531734),(\"beach\",-4.605170185988092),(\"beautiful\",-4.605170185988092),(\"because\",0.0),(\"becky\",0.0),(\"become\",-4.605170185988092),(\"becomes\",0.6931471805599453),(\"becoming\",-4.605170185988092),(\"been\",-0.15415067982725836),(\"before\",0.6931471805599453),(\"behind\",-4.605170185988092),(\"being\",0.1823215567939546),(\"believable\",-0.6931471805599453),(\"believe\",0.6931471805599453),(\"belonging\",-4.605170185988092),(\"belongs\",0.0),(\"benefit\",0.0),(\"bergman\",-4.605170185988092),(\"berman\",-4.605170185988092),(\"bermuda\",-4.605170185988092),(\"best\",0.1823215567939546),(\"bet\",1.3862943611198906),(\"beth\",-4.605170185988092),(\"better\",-1.0986122886681098),(\"between\",-0.6931471805599453),(\"beyond\",-4.605170185988092),(\"big\",0.0),(\"bit\",0.0),(\"bitchy\",-4.605170185988092),(\"blame\",-4.605170185988092),(\"bland\",-4.605170185988092),(\"blazing\",0.6931471805599453),(\"bleeds\",0.0),(\"bless\",0.0),(\"blindness\",0.0),(\"blow\",-4.605170185988092),(\"board\",-4.605170185988092),(\"bobby\",0.6931471805599453),(\"bodies\",-4.605170185988092),(\"boiler\",0.0),(\"bolt\",2.0794415416798357),(\"bombed\",0.0),(\"bondage\",-4.605170185988092),(\"boring\",-4.605170185988092),(\"boss\",0.0),(\"both\",0.0),(\"bottom\",-4.605170185988092),(\"boy\",1.3862943611198906),(\"boyfriend\",-4.605170185988092),(\"br\",0.7701082216960737),(\"bracelet\",0.0),(\"brains\",-4.605170185988092),(\"branagh\",-4.605170185988092),(\"brand\",-4.605170185988092),(\"brian\",-4.605170185988092),(\"brie\",-4.605170185988092),(\"briefly\",-4.605170185988092),(\"brilliant\",-0.6931471805599453),(\"brilliantly\",0.0),(\"bromwell\",1.3862943611198906),(\"brooks\",1.791759469228055),(\"brother\",-4.605170185988092),(\"brutal\",-4.605170185988092),(\"bubble\",-4.605170185988092),(\"buildings\",0.0),(\"bunch\",-4.605170185988092),(\"burn\",0.0),(\"businessman\",-4.605170185988092),(\"but\",-0.3794896217049037),(\"by\",0.1823215567939546),(\"came\",-0.6931471805599453),(\"camera\",0.0),(\"can\",0.0),(\"cannavale\",1.0986122886681098),(\"cannon\",0.0),(\"captivated\",0.0),(\"car\",-4.605170185988092),(\"care\",-4.605170185988092),(\"career\",-4.605170185988092),(\"careful\",0.0),(\"caretaker\",0.0),(\"cargo\",-4.605170185988092),(\"caring\",-4.605170185988092),(\"carl\",-4.605170185988092),(\"carlin\",0.0),(\"carries\",-4.605170185988092),(\"carter\",-4.605170185988092),(\"cartoon\",0.0),(\"case\",0.0),(\"cast\",-0.40546510810816444),(\"cause\",0.0),(\"caused\",-4.605170185988092),(\"celebrated\",0.0),(\"celebrities\",0.0),(\"celebrity\",-4.605170185988092),(\"certain\",0.0),(\"certainly\",0.0),(\"chambers\",-4.605170185988092),(\"chantings\",-4.605170185988092),(\"character\",-0.5108256237659907),(\"characteristic\",0.0),(\"characterization\",0.0),(\"characters\",-1.0986122886681098),(\"charisma\",-4.605170185988092),(\"charlie\",-4.605170185988092),(\"cheese\",-4.605170185988092),(\"chef\",-4.605170185988092),(\"chemistry\",-4.605170185988092),(\"child\",0.0),(\"chilling\",0.0),(\"chock\",-4.605170185988092),(\"choices\",-4.605170185988092),(\"chopped\",0.0),(\"chose\",-4.605170185988092),(\"christopher\",-4.605170185988092),(\"cigarettes\",-4.605170185988092),(\"cinematography\",-4.605170185988092),(\"citizen\",0.0),(\"city\",0.0),(\"classic\",0.6931471805599453),(\"classics\",0.0),(\"close\",-0.6931471805599453),(\"closer\",0.0),(\"clothes\",0.0),(\"clueless\",-4.605170185988092),(\"co\",-0.6931471805599453),(\"collette\",2.3978952727983707),(\"come\",-4.605170185988092),(\"comedic\",0.0),(\"comedies\",0.6931471805599453),(\"comedy\",-0.6931471805599453),(\"comes\",-4.605170185988092),(\"comic\",-4.605170185988092),(\"comments\",0.0),(\"compared\",0.0),(\"complaining\",-4.605170185988092),(\"complaint\",0.0),(\"computer\",0.0),(\"concept\",0.0),(\"concorde\",-4.605170185988092),(\"confirmed\",0.0),(\"conflicted\",0.0),(\"confused\",0.0),(\"connect\",-4.605170185988092),(\"connection\",-0.6931471805599453),(\"consideration\",0.0),(\"considered\",0.0),(\"constantly\",0.0),(\"contemporaneous\",-4.605170185988092),(\"contempt\",-4.605170185988092),(\"contracted\",0.0),(\"contrary\",-4.605170185988092),(\"control\",-4.605170185988092),(\"convinced\",-4.605170185988092),(\"copy\",-4.605170185988092),(\"core\",0.6931471805599453),(\"corn\",0.0),(\"correct\",0.0),(\"correspondence\",0.0),(\"cosmopolitan\",-4.605170185988092),(\"could\",-0.587786664902119),(\"couldn\",-4.605170185988092),(\"country\",-4.605170185988092),(\"couple\",-1.0986122886681098),(\"course\",-4.605170185988092),(\"cowardice\",-4.605170185988092),(\"crap\",-0.6931471805599453),(\"crashing\",-4.605170185988092),(\"crazy\",-4.605170185988092),(\"create\",-4.605170185988092),(\"credits\",-4.605170185988092),(\"creepy\",0.6931471805599453),(\"crew\",-4.605170185988092),(\"critically\",0.0),(\"critics\",-4.605170185988092),(\"cross\",-4.605170185988092),(\"crush\",0.0),(\"cry\",0.0),(\"cryptic\",-4.605170185988092),(\"culinary\",-4.605170185988092),(\"culkin\",1.6094379124341003),(\"cullum\",0.0),(\"cult\",0.0),(\"cultural\",-4.605170185988092),(\"curiosity\",-4.605170185988092),(\"cut\",-0.40546510810816444),(\"damage\",-4.605170185988092),(\"dancer\",0.0),(\"dancing\",-4.605170185988092),(\"danger\",-4.605170185988092),(\"dangerous\",0.0),(\"dark\",-1.3862943611198906),(\"dated\",-4.605170185988092),(\"daughter\",-4.605170185988092),(\"day\",-0.6931471805599453),(\"days\",0.0),(\"dc\",-4.605170185988092),(\"dead\",-4.605170185988092),(\"deadly\",0.0),(\"deafening\",-4.605170185988092),(\"death\",-1.0986122886681098),(\"decade\",0.0),(\"decent\",-4.605170185988092),(\"decides\",0.0),(\"deciding\",0.0),(\"defined\",-4.605170185988092),(\"definitely\",0.6931471805599453),(\"deleted\",0.0),(\"demeanor\",-4.605170185988092),(\"demolition\",0.0),(\"denise\",-4.605170185988092),(\"depalma\",-4.605170185988092),(\"departure\",0.0),(\"depth\",-4.605170185988092),(\"derange\",0.0),(\"descent\",-4.605170185988092),(\"deserve\",0.0),(\"design\",-4.605170185988092),(\"desired\",0.0),(\"desperate\",-4.605170185988092),(\"desperation\",0.0),(\"despite\",0.6931471805599453),(\"devious\",0.0),(\"dialog\",-4.605170185988092),(\"dialogue\",-4.605170185988092),(\"dickens\",-4.605170185988092),(\"did\",0.6931471805599453),(\"didn\",-1.9459101490553135),(\"different\",-4.605170185988092),(\"diggers\",0.0),(\"dilemma\",-4.605170185988092),(\"dir\",0.0),(\"directed\",-1.0986122886681098),(\"direction\",-1.3862943611198906),(\"directly\",0.0),(\"director\",0.0),(\"directorial\",-4.605170185988092),(\"directors\",-4.605170185988092),(\"directs\",0.0),(\"disappointed\",-4.605170185988092),(\"disaster\",-4.605170185988092),(\"discovering\",0.0),(\"discovery\",-4.605170185988092),(\"dishonest\",0.0),(\"dispersion\",0.0),(\"distance\",-4.605170185988092),(\"distorted\",-4.605170185988092),(\"disturbed\",0.0),(\"disused\",-4.605170185988092),(\"divorce\",-0.6931471805599453),(\"do\",0.9162907318741551),(\"does\",0.4054651081081644),(\"doesn\",0.0),(\"domineering\",-4.605170185988092),(\"don\",-1.2992829841302609),(\"done\",0.0),(\"donna\",1.0986122886681098),(\"doors\",-4.605170185988092),(\"doubt\",0.0),(\"down\",0.0),(\"draining\",-4.605170185988092),(\"drama\",-0.40546510810816444),(\"dramas\",0.0),(\"dramatic\",0.6931471805599453),(\"dramatization\",0.0),(\"drawn\",0.0),(\"dreadful\",0.0),(\"drenched\",-4.605170185988092),(\"dress\",-4.605170185988092),(\"drown\",-4.605170185988092),(\"drunk\",-4.605170185988092),(\"due\",0.0),(\"dull\",-4.605170185988092),(\"dumb\",0.0),(\"dvd\",0.0),(\"dwarfs\",-4.605170185988092),(\"dying\",0.0),(\"dysfunctional\",-4.605170185988092),(\"each\",-0.6931471805599453),(\"earlier\",-4.605170185988092),(\"easily\",0.0),(\"easy\",-4.605170185988092),(\"editing\",0.0),(\"editor\",0.0),(\"effects\",-4.605170185988092),(\"effort\",-4.605170185988092),(\"either\",-1.0986122886681098),(\"elections\",0.0),(\"elevated\",-4.605170185988092),(\"else\",-1.0986122886681098),(\"embarrassing\",-4.605170185988092),(\"emery\",0.0),(\"emotional\",0.0),(\"enamored\",-4.605170185988092),(\"end\",-0.40546510810816444),(\"ending\",0.0),(\"engaging\",0.0),(\"enjoy\",0.0),(\"enjoyed\",-4.605170185988092),(\"enough\",-0.6931471805599453),(\"entertained\",-0.6931471805599453),(\"entertaining\",-4.605170185988092),(\"entertainment\",0.0),(\"episode\",0.0),(\"era\",-4.605170185988092),(\"escaped\",0.0),(\"especially\",-1.0986122886681098),(\"establishing\",0.0),(\"estate\",-4.605170185988092),(\"estranged\",0.0),(\"estrangement\",-4.605170185988092),(\"etc\",-4.605170185988092),(\"even\",-0.587786664902119),(\"events\",0.6931471805599453),(\"eventually\",0.0),(\"ever\",0.0),(\"every\",0.0),(\"everyone\",-4.605170185988092),(\"everything\",1.0986122886681098),(\"everywhere\",0.0),(\"evokes\",0.0),(\"ex\",0.0),(\"exactly\",-4.605170185988092),(\"example\",-4.605170185988092),(\"excellent\",-1.0986122886681098),(\"exception\",0.0),(\"exceptionally\",0.0),(\"excitement\",-4.605170185988092),(\"excoriated\",-4.605170185988092),(\"exemplary\",0.0),(\"exist\",0.0),(\"existence\",0.0),(\"existential\",-4.605170185988092),(\"expect\",0.0),(\"expected\",-4.605170185988092),(\"exploits\",-4.605170185988092),(\"expressionist\",-4.605170185988092),(\"extra\",-4.605170185988092),(\"extreme\",-4.605170185988092),(\"f\",-4.605170185988092),(\"face\",0.0),(\"faces\",-4.605170185988092),(\"facing\",-4.605170185988092),(\"fact\",0.0),(\"failed\",-4.605170185988092),(\"fails\",0.0),(\"fall\",0.0),(\"fame\",0.6931471805599453),(\"familiar\",-4.605170185988092),(\"family\",-4.605170185988092),(\"fan\",0.28768207245178085),(\"fans\",0.6931471805599453),(\"fantastic\",1.0986122886681098),(\"far\",-1.0986122886681098),(\"fare\",0.0),(\"fart\",-4.605170185988092),(\"fashioned\",0.0),(\"fashions\",-4.605170185988092),(\"fast\",-4.605170185988092),(\"favorite\",-0.6931471805599453),(\"favourite\",-4.605170185988092),(\"feel\",-4.605170185988092),(\"feeling\",-0.6931471805599453),(\"feelings\",-0.6931471805599453),(\"felt\",-0.40546510810816444),(\"fetched\",0.0),(\"few\",-4.605170185988092),(\"fiend\",0.0),(\"fight\",0.0),(\"fighting\",0.0),(\"figure\",-4.605170185988092),(\"film\",-0.2682639865946794),(\"films\",-1.9459101490553135),(\"finally\",0.6931471805599453),(\"financially\",0.0),(\"find\",-4.605170185988092),(\"finds\",0.0),(\"fine\",0.0),(\"finely\",0.0),(\"finger\",-4.605170185988092),(\"finish\",-4.605170185988092),(\"finished\",-4.605170185988092),(\"first\",-4.605170185988092),(\"fisher\",0.0),(\"five\",-4.605170185988092),(\"flashbacks\",-4.605170185988092),(\"flat\",0.0),(\"flawed\",0.0),(\"flawlessly\",-4.605170185988092),(\"flesh\",-4.605170185988092),(\"fleshed\",0.0),(\"flick\",-4.605170185988092),(\"flight\",0.6931471805599453),(\"floods\",-4.605170185988092),(\"flown\",-4.605170185988092),(\"flying\",-4.605170185988092),(\"followable\",0.0),(\"followed\",-4.605170185988092),(\"foot\",0.0),(\"footage\",-4.605170185988092),(\"for\",-0.8109302162163288),(\"forehead\",0.0),(\"forget\",-4.605170185988092),(\"forgotten\",-4.605170185988092),(\"form\",-0.6931471805599453),(\"formal\",-4.605170185988092),(\"former\",0.0),(\"forrest\",-4.605170185988092),(\"found\",-0.40546510810816444),(\"foxworth\",-4.605170185988092),(\"frail\",-4.605170185988092),(\"frankenstein\",0.0),(\"fraud\",0.0),(\"frederic\",-4.605170185988092),(\"friday\",0.0),(\"from\",8.70113769896297e-2),(\"full\",-0.6931471805599453),(\"fume\",0.0),(\"fumes\",0.0),(\"funnier\",-4.605170185988092),(\"funny\",-1.0986122886681098),(\"future\",-1.0986122886681098),(\"gabriel\",1.0986122886681098),(\"gas\",-0.6931471805599453),(\"gave\",0.6931471805599453),(\"gay\",0.0),(\"general\",-4.605170185988092),(\"generally\",-4.605170185988092),(\"generated\",-4.605170185988092),(\"generation\",0.0),(\"genuinely\",0.0),(\"george\",-1.0986122886681098),(\"get\",-4.605170185988092),(\"gets\",0.0),(\"getting\",-0.6931471805599453),(\"ghetto\",0.0),(\"give\",0.6931471805599453),(\"given\",0.0),(\"gives\",0.6931471805599453),(\"giving\",0.6931471805599453),(\"goal\",0.0),(\"god\",0.0),(\"godby\",0.0),(\"goddard\",0.0),(\"goes\",-4.605170185988092),(\"going\",-1.0986122886681098),(\"goldberg\",-4.605170185988092),(\"good\",0.6931471805599453),(\"got\",-0.6931471805599453),(\"grader\",-4.605170185988092),(\"grant\",-4.605170185988092),(\"gratitude\",0.0),(\"great\",-4.605170185988092),(\"grips\",0.0),(\"grown\",0.0),(\"guess\",-4.605170185988092),(\"guide\",0.0),(\"guns\",-4.605170185988092),(\"guy\",0.6931471805599453),(\"habits\",-4.605170185988092),(\"had\",-0.5108256237659907),(\"halitosis\",-4.605170185988092),(\"hall\",-0.6931471805599453),(\"hammers\",-4.605170185988092),(\"hand\",0.0),(\"handed\",-4.605170185988092),(\"happened\",-4.605170185988092),(\"happening\",0.0),(\"happens\",-4.605170185988092),(\"happy\",-4.605170185988092),(\"hard\",-4.605170185988092),(\"harmon\",-4.605170185988092),(\"harrelson\",-4.605170185988092),(\"harrowing\",0.0),(\"harsh\",-4.605170185988092),(\"has\",0.6190392084062235),(\"have\",-0.3364722366212129),(\"having\",-1.0986122886681098),(\"he\",0.1941560144409574),(\"hear\",0.0),(\"heart\",-4.605170185988092),(\"hearted\",0.0),(\"helicopters\",-4.605170185988092),(\"help\",-0.40546510810816444),(\"helped\",0.0),(\"helps\",0.0),(\"her\",0.4054651081081644),(\"here\",-0.40546510810816444),(\"hi\",-4.605170185988092),(\"hides\",0.0),(\"high\",1.791759469228055),(\"highly\",0.0),(\"highway\",0.0),(\"hilarious\",-4.605170185988092),(\"him\",0.6931471805599453),(\"himself\",0.28768207245178085),(\"his\",0.11778303565638346),(\"hit\",-4.605170185988092),(\"hitchcock\",-0.6931471805599453),(\"hitchcockian\",0.6931471805599453),(\"hits\",-4.605170185988092),(\"hoax\",0.0),(\"hobo\",0.0),(\"home\",0.0),(\"homeless\",1.3862943611198906),(\"homelessness\",0.6931471805599453),(\"hoodwink\",0.0),(\"hope\",0.0),(\"hopefully\",-4.605170185988092),(\"horrible\",-4.605170185988092),(\"horrific\",0.0),(\"horror\",-4.605170185988092),(\"hospital\",0.0),(\"host\",0.0),(\"hot\",-4.605170185988092),(\"hour\",-1.0986122886681098),(\"hours\",-4.605170185988092),(\"houselessness\",0.0),(\"how\",-0.2231435513142097),(\"howard\",0.0),(\"however\",0.4054651081081644),(\"howlers\",-4.605170185988092),(\"huge\",-4.605170185988092),(\"human\",0.0),(\"hung\",-4.605170185988092),(\"hurt\",-4.605170185988092),(\"hybrid\",0.0),(\"i\",-0.8472978603872037),(\"idea\",-4.605170185988092),(\"ideas\",-4.605170185988092),(\"identity\",-4.605170185988092),(\"idiots\",0.0),(\"if\",-0.587786664902119),(\"illicit\",-4.605170185988092),(\"imitating\",-4.605170185988092),(\"imitations\",-4.605170185988092),(\"immediately\",0.0),(\"immersed\",-4.605170185988092),(\"impersonation\",0.0),(\"impressive\",0.0),(\"improvisational\",-4.605170185988092),(\"in\",-9.237332013101517e-2),(\"include\",0.0),(\"including\",-1.0986122886681098),(\"incredible\",0.0),(\"incredibly\",-4.605170185988092),(\"indifferently\",0.0),(\"indulgent\",-4.605170185988092),(\"inevitably\",-4.605170185988092),(\"inflation\",0.0),(\"ingmar\",-4.605170185988092),(\"initially\",0.0),(\"inn\",0.0),(\"inner\",0.0),(\"insane\",-0.6931471805599453),(\"inside\",-4.605170185988092),(\"insight\",-4.605170185988092),(\"insightful\",0.0),(\"insistence\",-4.605170185988092),(\"insomnia\",0.0),(\"inspect\",0.0),(\"inspector\",0.0),(\"inspire\",0.0),(\"instead\",-1.0986122886681098),(\"intellectual\",-4.605170185988092),(\"intelligentsia\",-4.605170185988092),(\"intentionally\",-4.605170185988092),(\"interesting\",0.0),(\"interior\",-4.605170185988092),(\"interiors\",-4.605170185988092),(\"interminable\",-4.605170185988092),(\"into\",-0.2231435513142097),(\"intonations\",-4.605170185988092),(\"intoned\",-4.605170185988092),(\"intrigued\",0.0),(\"introspective\",-4.605170185988092),(\"invade\",0.0),(\"investigating\",0.0),(\"involved\",-4.605170185988092),(\"iraq\",-0.6931471805599453),(\"is\",7.232066157962608e-2),(\"island\",-4.605170185988092),(\"isn\",0.6931471805599453),(\"isolated\",-4.605170185988092),(\"issue\",0.0),(\"it\",-0.2170645052378275),(\"italians\",0.0),(\"its\",1.3862943611198906),(\"jack\",-4.605170185988092),(\"jacked\",-4.605170185988092),(\"jacking\",-4.605170185988092),(\"james\",-4.605170185988092),(\"jameson\",-4.605170185988092),(\"jeffery\",0.0),(\"jeffrey\",0.0),(\"jerry\",-4.605170185988092),(\"jess\",0.6931471805599453),(\"jetliner\",-4.605170185988092),(\"jettisons\",-4.605170185988092),(\"jinxed\",-4.605170185988092),(\"job\",0.0),(\"joe\",0.0),(\"john\",0.0),(\"johnson\",0.6931471805599453),(\"jokes\",0.0),(\"jon\",-4.605170185988092),(\"judge\",-4.605170185988092),(\"judy\",-4.605170185988092),(\"julie\",-4.605170185988092),(\"jumped\",-4.605170185988092),(\"just\",-2.833213344056216),(\"kane\",0.0),(\"kathleen\",-4.605170185988092),(\"keep\",-0.6931471805599453),(\"keeper\",0.0),(\"keeps\",-4.605170185988092),(\"kennedy\",-4.605170185988092),(\"kenneth\",-4.605170185988092),(\"key\",0.6931471805599453),(\"kid\",-4.605170185988092),(\"kids\",0.0),(\"kill\",0.0),(\"killed\",0.0),(\"killer\",0.0),(\"king\",0.0),(\"kirkland\",-4.605170185988092),(\"knew\",0.0),(\"knock\",-4.605170185988092),(\"know\",-0.8472978603872037),(\"known\",-4.605170185988092),(\"kristin\",-4.605170185988092),(\"lack\",-4.605170185988092),(\"lacked\",-4.605170185988092),(\"lacking\",-4.605170185988092),(\"lady\",0.0),(\"land\",-0.6931471805599453),(\"language\",-4.605170185988092),(\"larry\",0.0),(\"late\",0.0),(\"lately\",0.6931471805599453),(\"later\",-0.6931471805599453),(\"latest\",0.0),(\"laugh\",-4.605170185988092),(\"laughs\",-4.605170185988092),(\"lauren\",-4.605170185988092),(\"law\",-4.605170185988092),(\"lawyer\",0.6931471805599453),(\"lawyers\",0.0),(\"lay\",0.0),(\"lead\",1.0986122886681098),(\"leading\",-4.605170185988092),(\"leaking\",-4.605170185988092),(\"least\",0.0),(\"leave\",0.0),(\"leaves\",0.0),(\"lee\",-4.605170185988092),(\"left\",-4.605170185988092),(\"leg\",0.6931471805599453),(\"legs\",0.0),(\"lemmon\",-4.605170185988092),(\"lesley\",0.6931471805599453),(\"leslie\",0.0),(\"less\",-1.0986122886681098),(\"lesson\",0.0),(\"let\",-4.605170185988092),(\"lethargic\",-4.605170185988092),(\"level\",-4.605170185988092),(\"life\",-0.2876820724517809),(\"lifted\",-4.605170185988092),(\"light\",-4.605170185988092),(\"lights\",0.0),(\"like\",0.3184537311185346),(\"liked\",-4.605170185988092),(\"likely\",-4.605170185988092),(\"lily\",-4.605170185988092),(\"line\",0.0),(\"lines\",-4.605170185988092),(\"lisa\",0.0),(\"listen\",0.0),(\"listener\",1.3862943611198906),(\"little\",-2.0794415416798357),(\"live\",0.6931471805599453),(\"lived\",-4.605170185988092),(\"lives\",-4.605170185988092),(\"ll\",-0.6931471805599453),(\"loaded\",-4.605170185988092),(\"locate\",0.0),(\"logand\",0.6931471805599453),(\"long\",-4.605170185988092),(\"longer\",-4.605170185988092),(\"look\",-1.0986122886681098),(\"looked\",0.0),(\"looking\",-1.0986122886681098),(\"looks\",-4.605170185988092),(\"looms\",-4.605170185988092),(\"loooonnnnng\",-4.605170185988092),(\"lose\",0.0),(\"loses\",-4.605170185988092),(\"losing\",0.6931471805599453),(\"lost\",-0.6931471805599453),(\"lot\",-4.605170185988092),(\"lots\",-4.605170185988092),(\"loud\",-4.605170185988092),(\"lounge\",0.0),(\"lovable\",0.0),(\"love\",0.0),(\"lover\",0.6931471805599453),(\"low\",0.0),(\"luxuries\",0.6931471805599453),(\"luxury\",-4.605170185988092),(\"lying\",-4.605170185988092),(\"m\",-0.6931471805599453),(\"machine\",0.0),(\"mad\",0.0),(\"made\",-0.5108256237659907),(\"make\",-0.6931471805599453),(\"makers\",-4.605170185988092),(\"makes\",0.6931471805599453),(\"making\",-0.40546510810816444),(\"male\",-4.605170185988092),(\"malevolent\",0.0),(\"man\",-1.0986122886681098),(\"manuscript\",0.0),(\"many\",-0.5108256237659907),(\"markham\",-4.605170185988092),(\"marriage\",-4.605170185988092),(\"martyrs\",-4.605170185988092),(\"mary\",-4.605170185988092),(\"matter\",1.0986122886681098),(\"maupin\",0.6931471805599453),(\"maureen\",-4.605170185988092),(\"may\",-0.6931471805599453),(\"maybe\",0.0),(\"me\",0.0),(\"meaning\",-4.605170185988092),(\"means\",-4.605170185988092),(\"mediocre\",-0.6931471805599453),(\"meet\",0.0),(\"meets\",0.0),(\"mel\",1.3862943611198906),(\"melodrama\",-4.605170185988092),(\"members\",0.0),(\"mental\",0.0),(\"merely\",-4.605170185988092),(\"mess\",-4.605170185988092),(\"message\",-4.605170185988092),(\"method\",-4.605170185988092),(\"michael\",-4.605170185988092),(\"mid\",-4.605170185988092),(\"middle\",-4.605170185988092),(\"might\",0.0),(\"miles\",-4.605170185988092),(\"millionaire\",0.0),(\"mind\",0.0),(\"minutes\",-4.605170185988092),(\"miscalculated\",-4.605170185988092),(\"miss\",0.0),(\"missed\",-4.605170185988092),(\"mistake\",-4.605170185988092),(\"mixed\",0.0),(\"mob\",-4.605170185988092),(\"model\",-4.605170185988092),(\"molly\",0.6931471805599453),(\"moments\",1.0986122886681098),(\"money\",0.6931471805599453),(\"monitor\",0.0),(\"monopoly\",0.0),(\"monte\",-4.605170185988092),(\"month\",0.0),(\"more\",-0.3364722366212129),(\"morris\",0.0),(\"morton\",1.0986122886681098),(\"most\",-0.40546510810816444),(\"mostly\",-4.605170185988092),(\"mother\",-0.6931471805599453),(\"motives\",0.0),(\"mount\",-4.605170185988092),(\"move\",0.0),(\"moved\",0.0),(\"movie\",0.0),(\"movies\",-0.40546510810816444),(\"mr\",0.0),(\"ms\",0.6931471805599453),(\"much\",-0.6931471805599453),(\"museum\",-4.605170185988092),(\"music\",-4.605170185988092),(\"must\",0.0),(\"muted\",-4.605170185988092),(\"mutual\",0.0),(\"my\",-0.6931471805599453),(\"mystery\",1.0986122886681098),(\"name\",0.0),(\"named\",1.3862943611198906),(\"narrative\",-4.605170185988092),(\"naturally\",0.6931471805599453),(\"nature\",-0.6931471805599453),(\"navigator\",-4.605170185988092),(\"navy\",-4.605170185988092),(\"near\",-0.6931471805599453),(\"necessarily\",-4.605170185988092),(\"necessary\",0.0),(\"need\",-4.605170185988092),(\"needed\",-4.605170185988092),(\"nell\",-4.605170185988092),(\"neurotic\",-4.605170185988092),(\"never\",-1.9459101490553135),(\"new\",-0.2231435513142097),(\"news\",0.0),(\"next\",0.0),(\"nice\",0.0),(\"nickname\",0.0),(\"nicotine\",-4.605170185988092),(\"night\",1.6094379124341003),(\"nightmarish\",0.0),(\"no\",-0.2231435513142097),(\"nominated\",-0.6931471805599453),(\"non\",-4.605170185988092),(\"none\",0.0),(\"nor\",0.0),(\"norm\",0.0),(\"not\",-0.3101549283038396),(\"nothing\",-4.605170185988092),(\"notice\",0.0),(\"noticed\",0.0),(\"notwithstanding\",-4.605170185988092),(\"novice\",0.0),(\"now\",1.0986122886681098),(\"number\",0.0),(\"nurse\",0.0),(\"observant\",0.0),(\"obvious\",0.0),(\"ocean\",-4.605170185988092),(\"odd\",-4.605170185988092),(\"of\",-0.5695332245927687),(\"off\",-0.6931471805599453),(\"offers\",0.0),(\"official\",0.0),(\"officially\",0.0),(\"often\",0.0),(\"oh\",0.9162907318741551),(\"oil\",-4.605170185988092),(\"old\",-1.791759469228055),(\"on\",0.26826398659467937),(\"once\",0.6931471805599453),(\"one\",0.26826398659467937),(\"online\",0.0),(\"only\",-1.7047480922384253),(\"onto\",0.0),(\"opened\",-4.605170185988092),(\"opening\",-4.605170185988092),(\"opportunity\",-4.605170185988092),(\"or\",-0.325422400434628),(\"orchestra\",-4.605170185988092),(\"order\",-4.605170185988092),(\"organizations\",0.0),(\"orientated\",-4.605170185988092),(\"original\",-4.605170185988092),(\"originality\",-4.605170185988092),(\"oscar\",-4.605170185988092),(\"other\",-0.1823215567939546),(\"others\",0.0),(\"otherwise\",-1.0986122886681098),(\"ourselves\",-4.605170185988092),(\"out\",-0.9444616088408514),(\"outdated\",-4.605170185988092),(\"over\",-0.2876820724517809),(\"overall\",0.0),(\"overkill\",0.0),(\"own\",0.6931471805599453),(\"pace\",-4.605170185988092),(\"paced\",0.0),(\"paid\",-4.605170185988092),(\"painful\",-4.605170185988092),(\"painfully\",-4.605170185988092),(\"paintings\",-4.605170185988092),(\"pals\",0.0),(\"paper\",-4.605170185988092),(\"parade\",-4.605170185988092),(\"paranoia\",0.0),(\"parents\",-4.605170185988092),(\"parody\",-4.605170185988092),(\"part\",-4.605170185988092),(\"parts\",0.0),(\"passengers\",-4.605170185988092),(\"past\",-4.605170185988092),(\"pataki\",-4.605170185988092),(\"pathetic\",0.0),(\"pathos\",-4.605170185988092),(\"patrick\",1.0986122886681098),(\"patroni\",-4.605170185988092),(\"pays\",0.0),(\"pencil\",-4.605170185988092),(\"penned\",0.0),(\"people\",-1.252762968495368),(\"pepto\",0.6931471805599453),(\"per\",0.0),(\"perfect\",0.0),(\"performance\",1.6094379124341003),(\"performances\",-4.605170185988092),(\"performing\",0.0),(\"perhaps\",0.0),(\"period\",-0.6931471805599453),(\"perpetual\",-4.605170185988092),(\"person\",0.0),(\"personality\",0.6931471805599453),(\"perspective\",0.0),(\"pete\",1.6094379124341003),(\"pettiness\",0.0),(\"philip\",-4.605170185988092),(\"photo\",0.0),(\"photographic\",-4.605170185988092),(\"physical\",0.6931471805599453),(\"physically\",0.0),(\"pick\",-4.605170185988092),(\"pictures\",-0.6931471805599453),(\"piece\",-1.0986122886681098),(\"pieces\",-4.605170185988092),(\"pig\",-4.605170185988092),(\"pilot\",-4.605170185988092),(\"pity\",0.0),(\"place\",-4.605170185988092),(\"plan\",-0.6931471805599453),(\"plane\",-4.605170185988092),(\"planned\",-4.605170185988092),(\"planning\",0.0),(\"planted\",0.0),(\"platitudes\",-4.605170185988092),(\"play\",-1.0986122886681098),(\"played\",-0.6931471805599453),(\"plays\",0.6931471805599453),(\"plenty\",-4.605170185988092),(\"plot\",-0.2876820724517809),(\"poem\",-4.605170185988092),(\"point\",-4.605170185988092),(\"polite\",-4.605170185988092),(\"pomp\",0.0),(\"ponderous\",-4.605170185988092),(\"poor\",-4.605170185988092),(\"popular\",-4.605170185988092),(\"portrayed\",0.0),(\"poseidon\",-4.605170185988092),(\"positive\",-4.605170185988092),(\"possibly\",0.6931471805599453),(\"pot\",0.0),(\"potentially\",-4.605170185988092),(\"predecessors\",-4.605170185988092),(\"predictable\",-0.6931471805599453),(\"preferring\",-4.605170185988092),(\"premise\",0.0),(\"preparation\",-4.605170185988092),(\"prepared\",0.0),(\"pressuring\",0.0),(\"pretend\",-4.605170185988092),(\"pretensions\",-4.605170185988092),(\"pretentious\",-4.605170185988092),(\"pretty\",-1.0986122886681098),(\"price\",0.0),(\"pride\",-4.605170185988092),(\"princess\",-4.605170185988092),(\"prior\",0.0),(\"prisons\",-4.605170185988092),(\"private\",-4.605170185988092),(\"probably\",1.3862943611198906),(\"problems\",-4.605170185988092),(\"produces\",-4.605170185988092),(\"production\",-4.605170185988092),(\"profession\",0.0),(\"programs\",0.0),(\"project\",0.0),(\"promoting\",-4.605170185988092),(\"pronounced\",-4.605170185988092),(\"properly\",-4.605170185988092),(\"prose\",-4.605170185988092),(\"prozac\",-4.605170185988092),(\"psycho\",0.0),(\"psychological\",-1.0986122886681098),(\"public\",-4.605170185988092),(\"pull\",0.0),(\"put\",-4.605170185988092),(\"putting\",-4.605170185988092),(\"qa\",-4.605170185988092),(\"quest\",-4.605170185988092),(\"question\",0.0),(\"questions\",0.0),(\"quick\",-0.6931471805599453),(\"quietly\",-4.605170185988092),(\"quinlan\",-4.605170185988092),(\"quirky\",0.0),(\"quite\",-0.6931471805599453),(\"quotations\",-4.605170185988092),(\"r\",-4.605170185988092),(\"racism\",0.0),(\"radio\",0.0),(\"ran\",0.0),(\"rang\",-4.605170185988092),(\"rarely\",-4.605170185988092),(\"rated\",0.0),(\"rates\",0.0),(\"rather\",-4.605170185988092),(\"rating\",-4.605170185988092),(\"rattle\",0.0),(\"razzie\",-4.605170185988092),(\"re\",0.0),(\"reach\",0.0),(\"reaching\",0.0),(\"read\",0.4054651081081644),(\"reading\",0.0),(\"reads\",0.0),(\"real\",0.0),(\"realistic\",1.0986122886681098),(\"reality\",0.6931471805599453),(\"really\",-2.0794415416798357),(\"reason\",-4.605170185988092),(\"reasons\",-4.605170185988092),(\"recalled\",0.0),(\"recent\",0.0),(\"recently\",-4.605170185988092),(\"reckon\",-4.605170185988092),(\"recognized\",-4.605170185988092),(\"recommend\",-0.6931471805599453),(\"red\",-4.605170185988092),(\"reference\",-4.605170185988092),(\"relationship\",0.0),(\"relationships\",-4.605170185988092),(\"release\",0.0),(\"relevance\",-4.605170185988092),(\"relief\",-4.605170185988092),(\"remind\",-0.6931471805599453),(\"reminding\",-4.605170185988092),(\"rent\",0.0),(\"repeatedly\",0.0),(\"repetitive\",0.0),(\"report\",0.0),(\"reports\",0.0),(\"rescue\",-4.605170185988092),(\"rescued\",0.0),(\"resolution\",-4.605170185988092),(\"rest\",-4.605170185988092),(\"restaurant\",-4.605170185988092),(\"result\",0.0),(\"results\",-4.605170185988092),(\"resurfaced\",0.0),(\"returns\",0.0),(\"reveals\",0.0),(\"revelation\",0.0),(\"reviewed\",0.0),(\"reviews\",0.0),(\"reviled\",0.0),(\"reworked\",-4.605170185988092),(\"rich\",0.4054651081081644),(\"rig\",-4.605170185988092),(\"right\",-0.40546510810816444),(\"ripoff\",-4.605170185988092),(\"ripping\",-4.605170185988092),(\"rival\",0.0),(\"robert\",-4.605170185988092),(\"robin\",1.5040773967762742),(\"role\",1.0986122886681098),(\"roles\",0.0),(\"romantic\",-4.605170185988092),(\"room\",-0.6931471805599453),(\"rory\",1.3862943611198906),(\"rosanna\",-4.605170185988092),(\"run\",-0.6931471805599453),(\"running\",-4.605170185988092),(\"runs\",-0.6931471805599453),(\"rush\",0.0),(\"s\",-0.2682639865946794),(\"sack\",0.0),(\"saddles\",0.6931471805599453),(\"said\",-4.605170185988092),(\"sailor\",0.6931471805599453),(\"sally\",-4.605170185988092),(\"same\",-0.6931471805599453),(\"sanders\",0.0),(\"sandra\",1.3862943611198906),(\"sandwich\",0.0),(\"satire\",0.0),(\"saturday\",0.0),(\"saw\",0.6931471805599453),(\"say\",-0.916290731874155),(\"saying\",0.0),(\"says\",-1.0986122886681098),(\"scary\",0.0),(\"scenario\",0.0),(\"scene\",-0.5596157879354228),(\"scenes\",-0.5596157879354228),(\"school\",1.3862943611198906),(\"schools\",0.0),(\"schrader\",-4.605170185988092),(\"scramble\",0.0),(\"scratching\",-4.605170185988092),(\"screen\",-4.605170185988092),(\"screening\",-4.605170185988092),(\"screenplay\",-0.6931471805599453),(\"se\",0.0),(\"sea\",-4.605170185988092),(\"second\",-1.0986122886681098),(\"secret\",0.0),(\"see\",-0.1823215567939546),(\"seed\",0.0),(\"seem\",-0.40546510810816444),(\"seemed\",-1.3862943611198906),(\"seems\",-4.605170185988092),(\"seen\",-1.3862943611198906),(\"self\",-4.605170185988092),(\"selling\",0.0),(\"sending\",-4.605170185988092),(\"sense\",-4.605170185988092),(\"sent\",0.0),(\"sequel\",-4.605170185988092),(\"sequels\",-4.605170185988092),(\"sequence\",-4.605170185988092),(\"serial\",0.0),(\"serious\",-4.605170185988092),(\"set\",-1.0986122886681098),(\"sets\",0.0),(\"several\",0.0),(\"sexuality\",0.0),(\"sexually\",0.0),(\"sexy\",-4.605170185988092),(\"shadowy\",-4.605170185988092),(\"shakespeare\",-4.605170185988092),(\"shame\",-4.605170185988092),(\"shared\",-4.605170185988092),(\"she\",0.9162907318741551),(\"sheen\",-4.605170185988092),(\"ships\",-4.605170185988092),(\"shooting\",0.0),(\"shop\",-4.605170185988092),(\"shopworn\",-4.605170185988092),(\"short\",-1.0986122886681098),(\"shot\",-4.605170185988092),(\"shots\",-4.605170185988092),(\"should\",0.22314355131420976),(\"shouldn\",-4.605170185988092),(\"show\",1.0986122886681098),(\"shows\",0.0),(\"shrugs\",0.0),(\"shuffling\",-4.605170185988092),(\"sick\",0.0),(\"side\",0.0),(\"sidewalk\",0.0),(\"silly\",-4.605170185988092),(\"simply\",-4.605170185988092),(\"since\",-4.605170185988092),(\"singers\",-0.6931471805599453),(\"sinking\",-4.605170185988092),(\"sinks\",-4.605170185988092),(\"sir\",-4.605170185988092),(\"sissy\",0.0),(\"sit\",-4.605170185988092),(\"site\",0.0),(\"sitting\",-4.605170185988092),(\"situation\",0.0),(\"skills\",-4.605170185988092),(\"slap\",-4.605170185988092),(\"slapstick\",0.6931471805599453),(\"sleeping\",-4.605170185988092),(\"sleepwalk\",-4.605170185988092),(\"slighter\",0.0),(\"slightly\",-4.605170185988092),(\"slow\",-1.0986122886681098),(\"sluggish\",-4.605170185988092),(\"smash\",-4.605170185988092),(\"smoochy\",0.0),(\"snobbery\",-4.605170185988092),(\"so\",-1.0986122886681098),(\"society\",0.0),(\"sociopathic\",0.0),(\"solemnly\",-4.605170185988092),(\"sombre\",-4.605170185988092),(\"some\",1.5040773967762742),(\"someone\",0.0),(\"something\",-1.3862943611198906),(\"son\",-4.605170185988092),(\"sontag\",-4.605170185988092),(\"sorry\",-4.605170185988092),(\"sort\",-0.6931471805599453),(\"sound\",-4.605170185988092),(\"spaceballs\",0.0),(\"speaking\",0.0),(\"speaks\",-4.605170185988092),(\"spectacular\",-4.605170185988092),(\"spiritually\",-4.605170185988092),(\"stage\",0.0),(\"stained\",-4.605170185988092),(\"stand\",0.6931471805599453),(\"stapleton\",-4.605170185988092),(\"star\",-4.605170185988092),(\"staring\",0.0),(\"stark\",-4.605170185988092),(\"starring\",0.0),(\"stars\",-0.40546510810816444),(\"starts\",-4.605170185988092),(\"stated\",0.0),(\"stay\",-4.605170185988092),(\"stays\",-4.605170185988092),(\"steal\",-4.605170185988092),(\"step\",0.0),(\"stettner\",1.791759469228055),(\"stevens\",-4.605170185988092),(\"stewart\",-4.605170185988092),(\"still\",1.0986122886681098),(\"stinks\",0.0),(\"stone\",-4.605170185988092),(\"stop\",0.0),(\"stories\",0.0),(\"story\",0.5877866649021191),(\"straight\",-4.605170185988092),(\"strange\",-0.6931471805599453),(\"strangulation\",-4.605170185988092),(\"street\",0.6931471805599453),(\"streets\",1.3862943611198906),(\"strip\",-4.605170185988092),(\"strong\",0.0),(\"struggling\",-4.605170185988092),(\"student\",0.6931471805599453),(\"students\",0.6931471805599453),(\"stuff\",-4.605170185988092),(\"stupid\",0.0),(\"style\",-4.605170185988092),(\"subculture\",-4.605170185988092),(\"subject\",-4.605170185988092),(\"submerged\",-4.605170185988092),(\"submitted\",0.0),(\"subscribe\",0.0),(\"succeed\",0.0),(\"succeeds\",0.0),(\"successfully\",0.0),(\"such\",0.6931471805599453),(\"sudden\",0.0),(\"suddenly\",0.0),(\"suffered\",0.0),(\"suffocate\",-4.605170185988092),(\"sunken\",-4.605170185988092),(\"sunshine\",0.0),(\"superb\",0.0),(\"supply\",-4.605170185988092),(\"supportive\",-4.605170185988092),(\"supposed\",-4.605170185988092),(\"sure\",-0.6931471805599453),(\"surf\",-4.605170185988092),(\"surprised\",-4.605170185988092),(\"surrogate\",-4.605170185988092),(\"survive\",0.0),(\"survivor\",-4.605170185988092),(\"survivors\",0.0),(\"susan\",-4.605170185988092),(\"suspense\",0.0),(\"suspenseful\",0.0),(\"suspenser\",0.0),(\"sweden\",-4.605170185988092),(\"swedish\",-4.605170185988092),(\"sympathy\",-4.605170185988092),(\"synopsis\",0.0),(\"t\",-0.7339691750802004),(\"tailspin\",0.0),(\"take\",-1.0986122886681098),(\"taken\",-4.605170185988092),(\"takes\",-1.0986122886681098),(\"talented\",-4.605170185988092),(\"talk\",0.6931471805599453),(\"talking\",-4.605170185988092),(\"tambor\",0.6931471805599453),(\"tape\",0.0),(\"teach\",0.0),(\"teachers\",1.3862943611198906),(\"teaching\",0.0),(\"teacup\",0.0),(\"technical\",-4.605170185988092),(\"techniques\",-4.605170185988092),(\"technology\",0.0),(\"teddy\",0.0),(\"tempest\",0.0),(\"tender\",0.0),(\"tension\",-4.605170185988092),(\"tenuta\",-4.605170185988092),(\"term\",-4.605170185988092),(\"terrific\",-4.605170185988092),(\"terry\",0.6931471805599453),(\"than\",-0.8472978603872037),(\"that\",0.6325225587435105),(\"the\",-0.19671029424605427),(\"theater\",-4.605170185988092),(\"theatrical\",-4.605170185988092),(\"their\",1.252762968495368),(\"them\",-4.605170185988092),(\"themselves\",-4.605170185988092),(\"then\",-4.605170185988092),(\"there\",-0.8109302162163288),(\"these\",0.0),(\"thespian\",-4.605170185988092),(\"they\",-0.6931471805599453),(\"thing\",-1.6094379124341003),(\"things\",-0.6931471805599453),(\"think\",-1.3862943611198906),(\"thinking\",-4.605170185988092),(\"third\",-0.6931471805599453),(\"thirty\",0.0),(\"this\",-0.39086630868701167),(\"those\",-0.6931471805599453),(\"though\",0.6931471805599453),(\"thought\",-1.0986122886681098),(\"three\",-1.6094379124341003),(\"thriller\",0.9162907318741551),(\"thrilling\",0.0),(\"through\",-1.0986122886681098),(\"thrown\",0.0),(\"tics\",-4.605170185988092),(\"tile\",-4.605170185988092),(\"tilt\",0.0),(\"time\",-0.4700036292457356),(\"times\",0.0),(\"timid\",-4.605170185988092),(\"timidity\",-4.605170185988092),(\"titanic\",0.0),(\"to\",0.15415067982725836),(\"toni\",1.6094379124341003),(\"too\",-0.8472978603872037),(\"took\",-4.605170185988092),(\"torture\",-4.605170185988092),(\"towering\",-4.605170185988092),(\"toy\",-4.605170185988092),(\"track\",-4.605170185988092),(\"traditionally\",0.0),(\"trait\",0.0),(\"translated\",-4.605170185988092),(\"trapped\",-4.605170185988092),(\"travails\",0.0),(\"treasure\",0.0),(\"triangle\",-4.605170185988092),(\"tricked\",-4.605170185988092),(\"tricks\",-4.605170185988092),(\"tried\",0.0),(\"tripe\",-4.605170185988092),(\"troubled\",0.0),(\"troubling\",0.0),(\"true\",0.28768207245178085),(\"truly\",0.0),(\"truth\",-4.605170185988092),(\"truths\",0.0),(\"try\",-4.605170185988092),(\"trying\",-4.605170185988092),(\"turncoat\",0.0),(\"turned\",-4.605170185988092),(\"turning\",-4.605170185988092),(\"tv\",-4.605170185988092),(\"twenty\",-4.605170185988092),(\"two\",-1.252762968495368),(\"typical\",0.0),(\"ubiquitous\",-4.605170185988092),(\"ulterior\",0.0),(\"ultimately\",0.0),(\"unbearably\",-4.605170185988092),(\"under\",-0.6931471805599453),(\"underlines\",0.0),(\"underrated\",0.0),(\"understanding\",-4.605170185988092),(\"understated\",0.0),(\"unexpectedness\",0.0),(\"unfolds\",0.0),(\"unfortunately\",-4.605170185988092),(\"uninspired\",-4.605170185988092),(\"unless\",-4.605170185988092),(\"unlike\",0.0),(\"unmentioned\",0.0),(\"unmistakable\",-4.605170185988092),(\"unnatural\",-4.605170185988092),(\"unnecessary\",0.0),(\"unpalatable\",-4.605170185988092),(\"unscathed\",-4.605170185988092),(\"unsettled\",0.0),(\"unsettling\",0.0),(\"unsympathetic\",-4.605170185988092),(\"until\",0.28768207245178085),(\"up\",-1.3862943611198906),(\"urgency\",-4.605170185988092),(\"us\",-4.605170185988092),(\"use\",-0.6931471805599453),(\"used\",0.6931471805599453),(\"using\",-0.6931471805599453),(\"usual\",0.0),(\"vagrant\",0.0),(\"valuable\",-1.0986122886681098),(\"values\",-4.605170185988092),(\"vehicle\",0.0),(\"veil\",-4.605170185988092),(\"vending\",0.0),(\"version\",-4.605170185988092),(\"versions\",-4.605170185988092),(\"very\",0.0),(\"video\",-0.6931471805599453),(\"view\",0.4054651081081644),(\"viewers\",-4.605170185988092),(\"vilmos\",-4.605170185988092),(\"violent\",-4.605170185988092),(\"vip\",-4.605170185988092),(\"visual\",-4.605170185988092),(\"voice\",0.0),(\"volumes\",0.0),(\"vote\",0.0),(\"walked\",-4.605170185988092),(\"walker\",-4.605170185988092),(\"walking\",-4.605170185988092),(\"wall\",0.0),(\"want\",-4.605170185988092),(\"wants\",1.3862943611198906),(\"war\",0.0),(\"warehouse\",0.0),(\"warren\",1.3862943611198906),(\"was\",-0.9808292530117262),(\"wasn\",-1.0986122886681098),(\"waste\",-4.605170185988092),(\"watch\",-0.2876820724517809),(\"watched\",-4.605170185988092),(\"watching\",-0.6931471805599453),(\"water\",-4.605170185988092),(\"way\",-0.6931471805599453),(\"we\",-4.605170185988092),(\"weak\",-4.605170185988092),(\"welcome\",0.0),(\"well\",-0.6931471805599453),(\"were\",-0.916290731874155),(\"what\",-0.2006706954621511),(\"whatever\",-4.605170185988092),(\"when\",0.4054651081081644),(\"where\",0.3364722366212129),(\"which\",0.28768207245178085),(\"while\",-0.8472978603872037),(\"whining\",-4.605170185988092),(\"who\",0.47000362924573563),(\"whole\",-0.6931471805599453),(\"whoopi\",-4.605170185988092),(\"whose\",0.6931471805599453),(\"why\",-1.6094379124341003),(\"widening\",0.0),(\"wilde\",-4.605170185988092),(\"will\",-0.6931471805599453),(\"william\",0.0),(\"williams\",2.772588722239781),(\"wilson\",-0.6931471805599453),(\"wine\",-4.605170185988092),(\"winner\",-4.605170185988092),(\"winter\",-4.605170185988092),(\"with\",-0.6190392084062235),(\"without\",0.6931471805599453),(\"woman\",0.0),(\"women\",0.0),(\"wondering\",0.0),(\"wood\",-4.605170185988092),(\"wooden\",-4.605170185988092),(\"woody\",-4.605170185988092),(\"words\",0.6931471805599453),(\"work\",0.4054651081081644),(\"worker\",-4.605170185988092),(\"world\",0.0),(\"worried\",-4.605170185988092),(\"worrying\",0.6931471805599453),(\"worse\",-4.605170185988092),(\"worst\",-4.605170185988092),(\"worth\",0.6931471805599453),(\"would\",-1.6094379124341003),(\"wow\",-4.605170185988092),(\"writer\",0.6931471805599453),(\"writers\",-0.6931471805599453),(\"written\",0.6931471805599453),(\"wrote\",0.0),(\"wrought\",-4.605170185988092),(\"year\",-4.605170185988092),(\"years\",0.28768207245178085),(\"yes\",0.0),(\"yet\",0.6931471805599453),(\"york\",0.0),(\"yorker\",-4.605170185988092),(\"you\",0.5306282510621704),(\"young\",1.0986122886681098),(\"your\",0.6931471805599453),(\"yours\",-4.605170185988092),(\"yourself\",-4.605170185988092),(\"youth\",0.0),(\"youthful\",-4.605170185988092),(\"zsigmond\",-4.605170185988092)]"
      ]
     },
     "metadata": {},
     "output_type": "display_data"
    }
   ],
   "source": [
    "safeTake :: Counter -> String -> Double\n",
    "safeTake m word = if member word m then fromIntegral $ m ! word else 0\n",
    "\n",
    "calcRatio :: Counter -> Counter -> String -> Double\n",
    "calcRatio pos neg word = let \n",
    "    ratio = (pos `safeTake` word) / (1 + (neg `safeTake` word)) in \n",
    "        if ratio > 0 then log ratio else  0 - log (1/(ratio + 0.01))\n",
    "calcRatio (M.fromList [(\"ab\", 3)]) (M.fromList []) \"ab\"\n",
    "\n",
    "mergeRatio :: Counter -> Counter -> Map String Double -> String -> Map String Double \n",
    "mergeRatio pos neg ratios word = let\n",
    "    ratio = calcRatio pos neg word in \n",
    "    insert word ratio ratios\n",
    "\n",
    "mergeRatio (M.fromList [(\"ab\", 1)]) (M.fromList []) M.empty \"ab\"\n",
    "mergeRatio (M.fromList []) (M.fromList [(\"ab\", 1)]) M.empty \"ab\"\n",
    "\n",
    "positiveToNegRatios = do\n",
    "    (wordCount, (allWords, (posWords, negWords))) <- countAll readLabels readReviews\n",
    "    let merge = mergeRatio posWords negWords in \n",
    "        return $ Prelude.foldl merge M.empty (keys allWords)\n",
    "\n",
    "cutoff = 1\n",
    "positiveToNegRatios >>= \\x -> let r = M.filter (\\cnt -> cnt > -cutoff || cnt < cutoff) x in print r"
   ]
  },
  {
   "cell_type": "code",
   "execution_count": null,
   "metadata": {
    "collapsed": true
   },
   "outputs": [],
   "source": []
  },
  {
   "cell_type": "code",
   "execution_count": null,
   "metadata": {
    "collapsed": true
   },
   "outputs": [],
   "source": []
  }
 ],
 "metadata": {
  "kernelspec": {
   "display_name": "Haskell",
   "language": "haskell",
   "name": "haskell"
  },
  "language_info": {
   "codemirror_mode": "ihaskell",
   "file_extension": ".hs",
   "name": "haskell",
   "version": "7.10.3"
  }
 },
 "nbformat": 4,
 "nbformat_minor": 2
}
