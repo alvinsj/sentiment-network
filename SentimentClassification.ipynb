{
 "cells": [
  {
   "cell_type": "markdown",
   "metadata": {},
   "source": [
    "### Curate Dataset  \n",
    "  - reviews.txt: reviews \n",
    "  - labels.txt: labels"
   ]
  },
  {
   "cell_type": "code",
   "execution_count": 2,
   "metadata": {
    "collapsed": true
   },
   "outputs": [],
   "source": [
    "import System.Environment\n",
    "import Control.Monad\n",
    "\n",
    "readReviews = do\n",
    "  reviews <- readFile \"reviews.txt\"\n",
    "  return $ lines reviews\n",
    "  \n",
    "readLabels = do\n",
    "  labels <- readFile \"labels.txt\"\n",
    "  return $ lines labels"
   ]
  },
  {
   "cell_type": "code",
   "execution_count": 87,
   "metadata": {},
   "outputs": [
    {
     "data": {
      "text/plain": [
       "25000"
      ]
     },
     "metadata": {},
     "output_type": "display_data"
    }
   ],
   "source": [
    "readReviews >>= \\reviews -> print $ length reviews"
   ]
  },
  {
   "cell_type": "code",
   "execution_count": 89,
   "metadata": {},
   "outputs": [
    {
     "data": {
      "text/plain": [
       "\"bromwell high is a cartoon comedy . it ran at the same time as some other programs about school life  such as  teachers  . my   years in the teaching profession lead me to believe that bromwell high  s satire is much closer to reality than is  teachers  . the scramble to survive financially  the insightful students who can see right through their pathetic teachers  pomp  the pettiness of the whole situation  all remind me of the schools i knew and their students . when i saw the episode in which a student repeatedly tried to burn down the school  i immediately recalled . . . . . . . . . at . . . . . . . . . . high . a classic line inspector i  m here to sack one of your teachers . student welcome to bromwell high . i expect that many adults of my age think that bromwell high is far fetched . what a pity that it isn  t   \""
      ]
     },
     "metadata": {},
     "output_type": "display_data"
    }
   ],
   "source": [
    "readReviews >>= \\reviews -> print $ head reviews"
   ]
  },
  {
   "cell_type": "code",
   "execution_count": 90,
   "metadata": {},
   "outputs": [
    {
     "data": {
      "text/plain": [
       "\"positive\""
      ]
     },
     "metadata": {},
     "output_type": "display_data"
    }
   ],
   "source": [
    "readLabels >>= \\labels -> print $ head labels"
   ]
  },
  {
   "cell_type": "markdown",
   "metadata": {},
   "source": [
    "### Developing a Predictive Theory"
   ]
  },
  {
   "cell_type": "code",
   "execution_count": 96,
   "metadata": {},
   "outputs": [
    {
     "data": {
      "text/plain": [
       "\"label            review\"\n",
       "\"negative    :    this movie is terrible but it has some good effects .  \"\n",
       "\"positive    :    adrian pasdar is excellent is this film . he makes a fascinating woman .  \"\n",
       "\"negative    :    comment this movie is impossible . is terrible  very improbable  bad interpretat\"\n",
       "\"positive    :    excellent episode movie ala pulp fiction .  days   suicides . it doesnt get more\"\n",
       "\"negative    :    if you haven  t seen this  it  s terrible . it is pure trash . i saw this about \"\n",
       "\"positive    :    this schiffer guy is a real genius  the movie is of excellent quality and both e\""
      ]
     },
     "metadata": {},
     "output_type": "display_data"
    }
   ],
   "source": [
    "reviewLength = 80\n",
    "\n",
    "printEachSet labels reviews prev index = let\n",
    "    labelAt n = take reviewLength (labels !! n)\n",
    "    reviewAt n = take reviewLength (reviews !! n) \n",
    "    printLine n = print $ (labelAt n) ++ \"    :    \" ++ (reviewAt n) in \n",
    "        prev >> printLine index\n",
    "       \n",
    "prettyPrint indices = do\n",
    "    reviews <- readReviews\n",
    "    labels <- readLabels \n",
    "    Prelude.foldl (printEachSet labels reviews) (print \"label            review\") indices \n",
    "        \n",
    "prettyPrint [2137, 12816, 6267, 21934, 5297, 4998]\n",
    "\n",
    "-- foldl (\\a b -> a >> print b) (print \"+\") [1,2,3]\n"
   ]
  },
  {
   "cell_type": "markdown",
   "metadata": {},
   "source": [
    "### Quick theory validation\n",
    "\n",
    "- total word count in reviews\n",
    "- positive/negative word count in reviews\n"
   ]
  },
  {
   "cell_type": "code",
   "execution_count": 75,
   "metadata": {
    "collapsed": true
   },
   "outputs": [],
   "source": [
    "import Data.Map as M\n",
    "import Test.QuickCheck\n",
    "\n",
    "type Counter = Map String Int"
   ]
  },
  {
   "cell_type": "code",
   "execution_count": 76,
   "metadata": {
    "collapsed": true
   },
   "outputs": [],
   "source": [
    "import Data.List.Split\n",
    "splitReviews = splitOn \" \""
   ]
  },
  {
   "cell_type": "code",
   "execution_count": 77,
   "metadata": {},
   "outputs": [
    {
     "data": {
      "text/plain": [
       "\"getCount :: String -> Counter -> Int\""
      ]
     },
     "metadata": {},
     "output_type": "display_data"
    },
    {
     "data": {
      "text/plain": [
       "+++ OK, passed 100 tests."
      ]
     },
     "metadata": {},
     "output_type": "display_data"
    }
   ],
   "source": [
    "-- getCount\n",
    "getCount :: String -> Counter -> Int\n",
    "getCount word cnts = if (M.member word cnts) then (cnts M.! word) else 0\n",
    "\n",
    "-- test: getCount\n",
    "testGetCount :: String -> Int -> Bool\n",
    "testGetCount word count = (getCount word $ M.fromList [(word, count)]) == (count :: Int)\n",
    "\n",
    "print \"getCount :: String -> Counter -> Int\"\n",
    "quickCheck testGetCount"
   ]
  },
  {
   "cell_type": "code",
   "execution_count": 78,
   "metadata": {},
   "outputs": [
    {
     "data": {
      "text/plain": [
       "\"addCount :: Counter -> String -> Counter\""
      ]
     },
     "metadata": {},
     "output_type": "display_data"
    },
    {
     "data": {
      "text/plain": [
       "+++ OK, passed 100 tests."
      ]
     },
     "metadata": {},
     "output_type": "display_data"
    }
   ],
   "source": [
    "-- addCount\n",
    "addCount :: Counter -> String -> Counter\n",
    "addCount counter word = M.insert word ((+) 1 $ getCount word counter) counter \n",
    "\n",
    "-- test: addCount'\n",
    "wordCountMap :: String -> Int -> Counter\n",
    "wordCountMap word count = M.fromList [(word, count)]\n",
    "\n",
    "testAddCount count word = let \n",
    "    result = (addCount (wordCountMap word count) word) \n",
    "    in result == (M.fromList [(word, count+1)])\n",
    "\n",
    "print \"addCount :: Counter -> String -> Counter\"\n",
    "quickCheck testAddCount"
   ]
  },
  {
   "cell_type": "code",
   "execution_count": 79,
   "metadata": {},
   "outputs": [
    {
     "data": {
      "text/plain": [
       "\"addPosNegCount\""
      ]
     },
     "metadata": {},
     "output_type": "display_data"
    },
    {
     "data": {
      "text/plain": [
       "\"positive\""
      ]
     },
     "metadata": {},
     "output_type": "display_data"
    },
    {
     "data": {
      "text/plain": [
       "+++ OK, passed 100 tests."
      ]
     },
     "metadata": {},
     "output_type": "display_data"
    },
    {
     "data": {
      "text/plain": [
       "\"negative\""
      ]
     },
     "metadata": {},
     "output_type": "display_data"
    },
    {
     "data": {
      "text/plain": [
       "+++ OK, passed 100 tests."
      ]
     },
     "metadata": {},
     "output_type": "display_data"
    }
   ],
   "source": [
    "type Counters = (Int, (Counter, (Counter, Counter))) \n",
    "\n",
    "-- addPosNegCount\n",
    "addPosNegCount :: String -> Counters -> String -> Counters\n",
    "addPosNegCount label reduced word =\n",
    "    let (index, (totalCount, (positiveCount, negativeCount))) = reduced\n",
    "        newPositiveCount = if label == \"positive\" then addCount positiveCount word else positiveCount\n",
    "        newNegativeCount = if label == \"negative\" then addCount negativeCount word else negativeCount\n",
    "        newTotalCount = addCount totalCount word in \n",
    "            (index + 1, (newTotalCount, (newPositiveCount, newNegativeCount)))\n",
    "\n",
    "-- test: addPosNegCount\n",
    "testAddPosCount :: String -> Bool\n",
    "testAddPosCount word = let \n",
    "    result = addPosNegCount \"positive\" (0, (M.empty, (M.empty, M.empty))) word\n",
    "    in result == (1,(M.fromList [(word,1)],(M.fromList [(word,1)],M.fromList [])))\n",
    "\n",
    "testAddNegCount :: String -> Bool\n",
    "testAddNegCount word = let \n",
    "    result = addPosNegCount \"negative\" (0, (M.empty, (M.empty, M.empty))) word\n",
    "    in result == (1,(M.fromList [(word,1)],(M.fromList [],M.fromList [(word,1)])))\n",
    "\n",
    "print \"addPosNegCount\"\n",
    "print \"positive\"\n",
    "quickCheck testAddPosCount\n",
    "print \"negative\"\n",
    "quickCheck testAddNegCount"
   ]
  },
  {
   "cell_type": "code",
   "execution_count": 80,
   "metadata": {},
   "outputs": [
    {
     "data": {
      "text/plain": [
       "\"groupWords :: positive -> [String] -> Counters -> Counters\""
      ]
     },
     "metadata": {},
     "output_type": "display_data"
    },
    {
     "data": {
      "text/plain": [
       "+++ OK, passed 100 tests."
      ]
     },
     "metadata": {},
     "output_type": "display_data"
    },
    {
     "data": {
      "text/plain": [
       "\"groupWords :: negative -> [String] -> Counters -> Counters\""
      ]
     },
     "metadata": {},
     "output_type": "display_data"
    },
    {
     "data": {
      "text/plain": [
       "+++ OK, passed 100 tests."
      ]
     },
     "metadata": {},
     "output_type": "display_data"
    }
   ],
   "source": [
    "-- groupWords\n",
    "groupWords :: String -> [String] -> Counters -> Counters\n",
    "groupWords label wordList initialData = \n",
    "    Prelude.foldl (addPosNegCount label) initialData wordList\n",
    "\n",
    "-- test: groupWords\n",
    "emptyCounters = (0, (M.empty, (M.empty, M.empty)))\n",
    "\n",
    "testGroupPositiveWords :: [String] -> Bool\n",
    "testGroupPositiveWords words = let \n",
    "    result = groupWords \"positive\" words emptyCounters\n",
    "    wordsLength = length words\n",
    "    ones = replicate wordsLength 1\n",
    "    counterWithWords = Prelude.foldl (\\a one -> addCount a one) M.empty words\n",
    "    in result == (wordsLength,(counterWithWords,(counterWithWords, M.fromList [])))\n",
    "\n",
    "testGroupNegativeWords :: [String] -> Bool\n",
    "testGroupNegativeWords words = let \n",
    "    result = groupWords \"negative\" words emptyCounters\n",
    "    wordsLength = length words\n",
    "    ones = replicate wordsLength 1\n",
    "    counterWithWords = Prelude.foldl (\\a one -> addCount a one) M.empty words\n",
    "    in result == (wordsLength,(counterWithWords,(M.fromList [], counterWithWords)))\n",
    "\n",
    "print \"groupWords :: positive -> [String] -> Counters -> Counters\"\n",
    "quickCheck testGroupPositiveWords\n",
    "\n",
    "print \"groupWords :: negative -> [String] -> Counters -> Counters\"\n",
    "quickCheck testGroupNegativeWords"
   ]
  },
  {
   "cell_type": "code",
   "execution_count": null,
   "metadata": {
    "collapsed": true
   },
   "outputs": [],
   "source": []
  },
  {
   "cell_type": "code",
   "execution_count": 81,
   "metadata": {
    "collapsed": true
   },
   "outputs": [],
   "source": [
    "counts label review initialData = let splitted = splitReviews review in\n",
    "        groupWords label splitted initialData\n",
    "\n",
    "inputSize = 20\n",
    "countAll readLabels readReviews = do  \n",
    "    labels <- readLabels\n",
    "    reviews <- readReviews\n",
    "    let pair = zip (take inputSize labels) (take inputSize reviews)\n",
    "        initialData = (0, (M.empty, (M.empty, M.empty)))\n",
    "        mergeCounts = (\\all -> \\one -> counts (fst one) (snd one) all) in\n",
    "        return $ Prelude.foldl mergeCounts initialData pair "
   ]
  },
  {
   "cell_type": "code",
   "execution_count": 82,
   "metadata": {},
   "outputs": [
    {
     "data": {
      "text/plain": [
       "\"total words: 1607, positive: 920, negative: 986\""
      ]
     },
     "metadata": {},
     "output_type": "display_data"
    }
   ],
   "source": [
    "countAll readLabels readReviews >>= \n",
    "    \\(total, (total_count, (pos, neg))) -> \n",
    "    let x = show $ size total_count\n",
    "        y = show $ size pos\n",
    "        z = show $ size neg\n",
    "        in print $ \"total words: \" ++ x  ++ \", positive: \" ++ y ++ \", negative: \" ++ z\n"
   ]
  },
  {
   "cell_type": "code",
   "execution_count": null,
   "metadata": {
    "collapsed": true
   },
   "outputs": [],
   "source": []
  },
  {
   "cell_type": "code",
   "execution_count": 83,
   "metadata": {},
   "outputs": [
    {
     "data": {
      "text/plain": [
       "1.0986122886681098"
      ]
     },
     "metadata": {},
     "output_type": "display_data"
    },
    {
     "data": {
      "text/html": [
       "<style>/* Styles used for the Hoogle display in the pager */\n",
       ".hoogle-doc {\n",
       "display: block;\n",
       "padding-bottom: 1.3em;\n",
       "padding-left: 0.4em;\n",
       "}\n",
       ".hoogle-code {\n",
       "display: block;\n",
       "font-family: monospace;\n",
       "white-space: pre;\n",
       "}\n",
       ".hoogle-text {\n",
       "display: block;\n",
       "}\n",
       ".hoogle-name {\n",
       "color: green;\n",
       "font-weight: bold;\n",
       "}\n",
       ".hoogle-head {\n",
       "font-weight: bold;\n",
       "}\n",
       ".hoogle-sub {\n",
       "display: block;\n",
       "margin-left: 0.4em;\n",
       "}\n",
       ".hoogle-package {\n",
       "font-weight: bold;\n",
       "font-style: italic;\n",
       "}\n",
       ".hoogle-module {\n",
       "font-weight: bold;\n",
       "}\n",
       ".hoogle-class {\n",
       "font-weight: bold;\n",
       "}\n",
       ".get-type {\n",
       "color: green;\n",
       "font-weight: bold;\n",
       "font-family: monospace;\n",
       "display: block;\n",
       "white-space: pre-wrap;\n",
       "}\n",
       ".show-type {\n",
       "color: green;\n",
       "font-weight: bold;\n",
       "font-family: monospace;\n",
       "margin-left: 1em;\n",
       "}\n",
       ".mono {\n",
       "font-family: monospace;\n",
       "display: block;\n",
       "}\n",
       ".err-msg {\n",
       "color: red;\n",
       "font-style: italic;\n",
       "font-family: monospace;\n",
       "white-space: pre;\n",
       "display: block;\n",
       "}\n",
       "#unshowable {\n",
       "color: red;\n",
       "font-weight: bold;\n",
       "}\n",
       ".err-msg.in.collapse {\n",
       "padding-top: 0.7em;\n",
       "}\n",
       ".highlight-code {\n",
       "white-space: pre;\n",
       "font-family: monospace;\n",
       "}\n",
       ".suggestion-warning { \n",
       "font-weight: bold;\n",
       "color: rgb(200, 130, 0);\n",
       "}\n",
       ".suggestion-error { \n",
       "font-weight: bold;\n",
       "color: red;\n",
       "}\n",
       ".suggestion-name {\n",
       "font-weight: bold;\n",
       "}\n",
       "</style><span class='err-msg'>Ambiguous occurrence ‘insert’<br/>It could refer to either ‘M.insert’, imported from ‘Data.Map’ (and originally defined in ‘containers-0.5.6.2:Data.Map.Base’)<br/>                      or ‘Data.List.insert’, imported from ‘Data.List’ (and originally defined in ‘base-4.8.2.0:Data.OldList’)</span>"
      ],
      "text/plain": [
       "Ambiguous occurrence ‘insert’\n",
       "It could refer to either ‘M.insert’, imported from ‘Data.Map’ (and originally defined in ‘containers-0.5.6.2:Data.Map.Base’)\n",
       "                      or ‘Data.List.insert’, imported from ‘Data.List’ (and originally defined in ‘base-4.8.2.0:Data.OldList’)"
      ]
     },
     "metadata": {},
     "output_type": "display_data"
    }
   ],
   "source": [
    "safeTake :: Counter -> String -> Double\n",
    "safeTake m word = if member word m then fromIntegral $ m ! word else 0\n",
    "\n",
    "calcRatio :: Counter -> Counter -> String -> Double\n",
    "calcRatio pos neg word = let \n",
    "    ratio = (pos `safeTake` word) / (1 + (neg `safeTake` word)) in \n",
    "        if ratio > 0 then log ratio else  0 - log (1/(ratio + 0.01))\n",
    "calcRatio (M.fromList [(\"ab\", 3)]) (M.fromList []) \"ab\"\n",
    "\n",
    "mergeRatio :: Counter -> Counter -> Map String Double -> String -> Map String Double \n",
    "mergeRatio pos neg ratios word = let\n",
    "    ratio = calcRatio pos neg word in \n",
    "    insert word ratio ratios\n",
    "\n",
    "mergeRatio (M.fromList [(\"ab\", 1)]) (M.fromList []) M.empty \"ab\"\n",
    "mergeRatio (M.fromList []) (M.fromList [(\"ab\", 1)]) M.empty \"ab\"\n",
    "\n",
    "positiveToNegRatios = do\n",
    "    (wordCount, (allWords, (posWords, negWords))) <- countAll readLabels readReviews\n",
    "    let merge = mergeRatio posWords negWords in \n",
    "        return $ Prelude.foldl merge M.empty (keys allWords)\n",
    "\n",
    "cutoff = 1\n",
    "positiveToNegRatios >>= \\x -> let r = M.filter (\\cnt -> cnt > -cutoff || cnt < cutoff) x in print r"
   ]
  },
  {
   "cell_type": "code",
   "execution_count": null,
   "metadata": {
    "collapsed": true
   },
   "outputs": [],
   "source": []
  },
  {
   "cell_type": "code",
   "execution_count": null,
   "metadata": {
    "collapsed": true
   },
   "outputs": [],
   "source": []
  }
 ],
 "metadata": {
  "kernelspec": {
   "display_name": "Haskell",
   "language": "haskell",
   "name": "haskell"
  },
  "language_info": {
   "codemirror_mode": "ihaskell",
   "file_extension": ".hs",
   "name": "haskell",
   "version": "7.10.3"
  }
 },
 "nbformat": 4,
 "nbformat_minor": 2
}
